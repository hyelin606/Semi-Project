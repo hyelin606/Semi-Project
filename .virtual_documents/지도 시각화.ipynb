import pandas as pd

# 파일 경로 설정
coord_file_path = 'data/상권 좌표.csv'
reordered_file_path = 'data/final_reordered.csv'

# CSV 파일 불러오기
coord_df = pd.read_csv(coord_file_path)
reordered_df = pd.read_csv(reordered_file_path)


import pandas as pd

# 파일 경로 설정
coord_file_path = 'data/상권 좌표.csv'
reordered_file_path = 'data/final_reordered.csv'

# CSV 파일 불러오기
coord_df = pd.read_csv(coord_file_path)
reordered_df = pd.read_csv(reordered_file_path)

# 'TRDAR_CD_N'과 '상권_코드_명' 컬럼을 기준으로 병합
merged_df = pd.merge(coord_df, reordered_df, left_on='TRDAR_CD_N', right_on='상권_코드_명')

# 병합된 데이터 확인
print(merged_df.head())

# CSV 파일로 저장
merged_file_path = 'data/map_data.csv'
merged_df.to_csv(merged_file_path, index=False)

print("병합된 데이터를 CSV 파일로 저장했습니다.")


pip install geopandas


pip install folium


pip install geopandas matplotlib


import geopandas as gpd
import matplotlib.pyplot as plt

# CSV 파일 로드
data = gpd.read_file('data/map_data1.csv')

# 데이터 확인
print(data.head())

# 지도 시각화
data.plot()
plt.show()


import pandas as pd

# CSV 파일 로드 (CP949 인코딩 사용)
data = pd.read_csv('data/map_data1.csv', encoding='cp949')

# 컬럼 확인
print(data.columns)




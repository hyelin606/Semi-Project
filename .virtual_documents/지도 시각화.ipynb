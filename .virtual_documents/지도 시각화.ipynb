import matplotlib.pyplot as plt
import matplotlib.font_manager as fm

font_path = 'C:/Windows/Fonts/gulim.ttc'  # 여기에 사용할 한글 폰트의 경로를 입력합니다.
font_name = fm.FontProperties(fname=font_path).get_name()
plt.rc('font', family=font_name)


import geopandas as gpd





gangnam_gpd = gpd.read_file('geo_json/gangnam_emd_2.geojson')
gangnam_gpd


gangnam_gpd = gangnam_gpd.set_crs(epsg='5178', allow_override=True)
gangnam_gpd = gangnam_gpd.to_crs(epsg='4326')
gangnam_gpd.head()


gangnam_gpd['center_point'] = gangnam_gpd['geometry'].geometry.centroid
gangnam_gpd['geometry'] = gangnam_gpd['geometry'].to_crs(epsg='4326')
gangnam_gpd['center_point'] = gangnam_gpd['center_point'].to_crs(epsg='4326')
gangnam_gpd['경도'] = gangnam_gpd['center_point'].map(lambda x: x.xy[0][0])
gangnam_gpd['위도'] = gangnam_gpd['center_point'].map(lambda x: x.xy[1][0])
gangnam_gpd.head()


# 컬럼명 변환
gangnam_gpd = gangnam_gpd.rename(columns={'EMD_CD':'행정동_코드', 'EMD_KOR_NM':'행정동_코드_명'})
gangnam_gpd


fig, ax = plt.subplots(figsize=(10, 6))
gangnam_gpd.plot(column='행정동_코드_명', ax=ax)
plt.axis('off')
plt.show()


fig, ax = plt.subplots(figsize=(10, 6))
gangnam_gpd.plot(ax=ax, color='white', edgecolor='black')
gangnam_gpd['center_point'].plot(marker='o', color='red', markersize=5, ax=ax)
plt.show()





import pandas as pd

# CSV 파일을 'euc-kr' 인코딩으로 불러옵니다.
com_df = pd.read_csv('data/(영역-상권) (1).csv', encoding='euc-kr')
com_df


gncom_df = com_df.loc[com_df['자치구_코드_명']=='강남구'].reset_index(drop=True)
gncom_df


# 자치구 코드, 코드명 삭제
gncom_df = gncom_df.drop(columns=['자치구_코드', '자치구_코드_명'])
gncom_df


# 좌표 컬럼명 변경
gncom_df = gncom_df.rename(columns={'엑스좌표_값':'상권_엑스좌표', '와이좌표_값':'상권_와이좌표'})
gncom_df


# GeoDataFrame 만들기
import geopandas as gpd
from shapely.geometry import Point

gncom_geometry = [Point(xy) for xy in zip(gncom_df['상권_엑스좌표'], gncom_df['상권_와이좌표'])]
gncom_gdf = gpd.GeoDataFrame(gncom_df, geometry=gncom_geometry, crs='EPSG:5181')
gncom_gdf


gncom_gdf['geometry'] = gncom_gdf['geometry'].to_crs(epsg='4326')
gncom_gdf


# 시각화1

fig, ax = plt.subplots(figsize=(10, 6))
gangnam_gpd.plot(ax=ax, color='white', edgecolor='black')
gncom_gdf.plot(column='상권_코드_명', ax=ax)
plt.axis('off')
plt.show()


# 시각화2
fig, ax = plt.subplots(figsize=(10, 6))
gangnam_gpd.plot(ax=ax, color='white', edgecolor='black')
gncom_gdf.plot(column='상권_코드_명', ax=ax, marker='o', color='red', markersize=10)
plt.axis('off')
plt.show()





# 전처리 된 데이터 불러오기
nf_reordered = pd.read_csv('data/final_reordered.csv')
nf_reordered.head()


nf_reordered.dtypes


# 주요 데이터형 바꾸기 : 범주형 데이터가 float64인 경우, int64로 변경
nf_reordered['행정동_코드'] = nf_reordered['행정동_코드'].astype('int64')
nf_reordered.dtypes


nf_reordered = nf_reordered.drop(columns=['상권_구분_코드_명', '상권_코드_명', '자치구_코드', '자치구_코드_명', '행정동_코드_명'])
nf_reordered


gncom_gdf = gncom_gdf.drop(columns=['상권_구분_코드', '상권_구분_코드_명', '행정동_코드_명'])
gncom_gdf


# 데이터 병합
merged_gdf = gncom_gdf.merge(nf_reordered, on=['상권_코드', '행정동_코드'])
merged_gdf


merged_gdf.loc[(merged_gdf['상권_코드']==3110971)&(merged_gdf['기준_년']==2023), ['기준_년', '기준_분기', '시간대', '시간대_매출금액']]


example_1 = merged_gdf.loc[(merged_gdf['기준_년']==2023)&(merged_gdf['기준_분기']==1)&(merged_gdf['시간대']=='00~06')].reset_index(drop=True)
example_2 = merged_gdf.loc[(merged_gdf['기준_년']==2023)&(merged_gdf['기준_분기']==1)&(merged_gdf['시간대']=='06~11')].reset_index(drop=True)
example_3 = merged_gdf.loc[(merged_gdf['기준_년']==2023)&(merged_gdf['기준_분기']==1)&(merged_gdf['시간대']=='11~14')].reset_index(drop=True)
example_4 = merged_gdf.loc[(merged_gdf['기준_년']==2023)&(merged_gdf['기준_분기']==1)&(merged_gdf['시간대']=='14~17')].reset_index(drop=True)
example_5 = merged_gdf.loc[(merged_gdf['기준_년']==2023)&(merged_gdf['기준_분기']==1)&(merged_gdf['시간대']=='17~21')].reset_index(drop=True)
example_6 = merged_gdf.loc[(merged_gdf['기준_년']==2023)&(merged_gdf['기준_분기']==1)&(merged_gdf['시간대']=='21~24')].reset_index(drop=True)


# 시각화
# 2003년 1분기 시간대별 시각화

fig, ax = plt.subplots(nrows=3, ncols=2, figsize=(15, 15))

# 시간대 : 1
ax[0, 0].set_title('시간대1')
gangnam_gpd.plot(ax=ax[0, 0], color='white', edgecolor='black')
example_1.plot(column='시간대_매출금액', ax=ax[0, 0], marker='o', markersize=30, cmap='coolwarm', legend=True)
ax[0, 0].axis('off')

# 시간대 : 2
ax[0, 1].set_title('시간대2')
gangnam_gpd.plot(ax=ax[0, 1], color='white', edgecolor='black')
example_2.plot(column='시간대_매출금액', ax=ax[0, 1], marker='o', markersize=30, cmap='coolwarm', legend=True)
ax[0, 1].axis('off')

# 시간대 : 3
ax[1, 0].set_title('시간대3')
gangnam_gpd.plot(ax=ax[1, 0], color='white', edgecolor='black')
example_3.plot(column='시간대_매출금액', ax=ax[1, 0], marker='o', markersize=30, cmap='coolwarm', legend=True)
ax[1, 0].axis('off')

# 시간대 : 4
ax[1, 1].set_title('시간대4')
gangnam_gpd.plot(ax=ax[1, 1], color='white', edgecolor='black')
example_4.plot(column='시간대_매출금액', ax=ax[1, 1], marker='o', markersize=30, cmap='coolwarm', legend=True)
ax[1, 1].axis('off')

# 시간대 : 5
ax[2, 0].set_title('시간대5')
gangnam_gpd.plot(ax=ax[2, 0], color='white', edgecolor='black')
example_5.plot(column='시간대_매출금액', ax=ax[2, 0], marker='o', markersize=30, cmap='coolwarm', legend=True)
ax[2, 0].axis('off')

# 시간대 : 6
ax[2, 1].set_title('시간대6')
gangnam_gpd.plot(ax=ax[2, 1], color='white', edgecolor='black')
example_6.plot(column='시간대_매출금액', ax=ax[2, 1], marker='o', markersize=30, cmap='coolwarm', legend=True)
ax[2, 1].axis('off')

plt.show()








import pandas as pd


gncom_df = pd.read_csv('data/영역-상권.csv')
gncom_df


# 컬럼명 바꾸기
gncom_df = gncom_df.rename(columns={'TRDAR_SE_C':'상권_구분_코드', 'TRDAR_SE_1':'상권_구분_코드_명', 'TRDAR_CD':'상권_코드', 'TRDAR_CD_N':'상권_코드_명', 'ADSTRD_CD':'행정동_코드', 'ADSTRD_CD_':'행정동_코드_명'})
gncom_df


# 강남구 데이터만 추출
gncom_df = gncom_df.loc[gncom_df['SIGNGU_CD_']=='강남구'].reset_index(drop=True)
gncom_df.head()


# 불필요한 컬럼 제거
gncom_df = gncom_df.drop(columns=['XCNTS_VALU', 'YDNTS_VALU', 'SIGNGU_CD', 'SIGNGU_CD_', 'RELM_AR', '상권_구분_코드', '상권_구분_코드_명'])
gncom_df


import geopandas as gpd
from shapely import wkt

# polygon변환
gncom_df['geometry'] = gncom_df['geometry'].apply(wkt.loads)

# geo data frame으로 변환
gncom_gdf = gpd.GeoDataFrame(gncom_df, geometry='geometry', crs='EPSG:5181')
gncom_gdf


# EPSG:5181을 EPSG:4326으로 바꾸기
gncom_gdf['geometry'] = gncom_gdf['geometry'].to_crs(epsg='4326')
gncom_gdf


import geopandas as gpd

# 변환된 GeoDataFrame을 지오제이슨 파일로 저장
gncom_gdf.to_file("geo_json/gncom_gdf.geojson", driver='GeoJSON')


import geopandas as gpd

# GeoJSON 파일 경로
file_path = "geo_json/gncom_gdf.geojson"

# GeoJSON 파일을 불러와 GeoDataFrame으로 변환
gncom_gdf= gpd.read_file(file_path)

# 데이터 확인
gncom_gdf


gncom_gdf['center_point'] = gncom_gdf['geometry'].geometry.centroid
gncom_gdf['geometry'] = gncom_gdf['geometry'].to_crs(epsg='4326')
gncom_gdf['center_point'] = gncom_gdf['center_point'].to_crs(epsg='4326')
gncom_gdf['경도'] = gncom_gdf['center_point'].map(lambda x: x.xy[0][0])
gncom_gdf['위도'] = gncom_gdf['center_point'].map(lambda x: x.xy[1][0])
gncom_gdf





# 상권별 시각화
import matplotlib.pyplot as plt

fig, ax = plt.subplots(figsize=(10, 6))
gangnam_gpd.plot(ax=ax, color='white', edgecolor='black')
gncom_gdf.plot(column='상권_코드_명', ax=ax)
plt.axis('off')
plt.show()


# 데이터 병합
merged_gdf = gncom_gdf.merge(nf_reordered, on=['상권_코드', '행정동_코드'])
merged_gdf


# 상권_코드_명 컬럼의 고유한 값의 개수 확인
unique_count = merged_gdf['상권_코드_명'].nunique()
unique_count


# 예시로 사용할 데이터셋 슬라이싱
example_1 = merged_gdf.loc[(merged_gdf['기준_년']==2023)&(merged_gdf['기준_분기']==1)&(merged_gdf['시간대']=='00~06')].reset_index(drop=True)
example_2 = merged_gdf.loc[(merged_gdf['기준_년']==2023)&(merged_gdf['기준_분기']==1)&(merged_gdf['시간대']=='06~11')].reset_index(drop=True)
example_3 = merged_gdf.loc[(merged_gdf['기준_년']==2023)&(merged_gdf['기준_분기']==1)&(merged_gdf['시간대']=='11~14')].reset_index(drop=True)
example_4 = merged_gdf.loc[(merged_gdf['기준_년']==2023)&(merged_gdf['기준_분기']==1)&(merged_gdf['시간대']=='14~17')].reset_index(drop=True)
example_5 = merged_gdf.loc[(merged_gdf['기준_년']==2023)&(merged_gdf['기준_분기']==1)&(merged_gdf['시간대']=='17~21')].reset_index(drop=True)
example_6 = merged_gdf.loc[(merged_gdf['기준_년']==2023)&(merged_gdf['기준_분기']==1)&(merged_gdf['시간대']=='21~24')].reset_index(drop=True)


# 시각화
# 2003년 1분기 시간대별 시각화

fig, ax = plt.subplots(nrows=3, ncols=2, figsize=(15, 15))

# 시간대 : 1
ax[0, 0].set_title('시간대1')
gangnam_gpd.plot(ax=ax[0, 0], color='white', edgecolor='black')
example_1.plot(column='시간대_매출금액', ax=ax[0, 0], marker='o', markersize=30, cmap='coolwarm', legend=True)
ax[0, 0].axis('off')

# 시간대 : 2
ax[0, 1].set_title('시간대2')
gangnam_gpd.plot(ax=ax[0, 1], color='white', edgecolor='black')
example_2.plot(column='시간대_매출금액', ax=ax[0, 1], marker='o', markersize=30, cmap='coolwarm', legend=True)
ax[0, 1].axis('off')

# 시간대 : 3
ax[1, 0].set_title('시간대3')
gangnam_gpd.plot(ax=ax[1, 0], color='white', edgecolor='black')
example_3.plot(column='시간대_매출금액', ax=ax[1, 0], marker='o', markersize=30, cmap='coolwarm', legend=True)
ax[1, 0].axis('off')

# 시간대 : 4
ax[1, 1].set_title('시간대4')
gangnam_gpd.plot(ax=ax[1, 1], color='white', edgecolor='black')
example_4.plot(column='시간대_매출금액', ax=ax[1, 1], marker='o', markersize=30, cmap='coolwarm', legend=True)
ax[1, 1].axis('off')

# 시간대 : 5
ax[2, 0].set_title('시간대5')
gangnam_gpd.plot(ax=ax[2, 0], color='white', edgecolor='black')
example_5.plot(column='시간대_매출금액', ax=ax[2, 0], marker='o', markersize=30, cmap='coolwarm', legend=True)
ax[2, 0].axis('off')

# 시간대 : 6
ax[2, 1].set_title('시간대6')
gangnam_gpd.plot(ax=ax[2, 1], color='white', edgecolor='black')
example_6.plot(column='시간대_매출금액', ax=ax[2, 1], marker='o', markersize=30, cmap='coolwarm', legend=True)
ax[2, 1].axis('off')

plt.show()


fig, ax = plt.subplots()
gangnam_gpd.plot(ax=ax, color='white', edgecolor='black')

ax.set_title('최대 매출 5개 상권')

# example_3.loc[example_1[['시간대_매출금액']].idxmax()].plot(column='시간대_매출금액', ax=ax, marker='o', markersize=30, cmap='coolwarm', legend=True)

# 색상 정하기
# colors = ['#FFA500', '#FF6347']  # 오렌지색에서 빨간색까지
# cmap = ListedColormap(colors)

# example_3.nlargest(5, '시간대_매출금액').plot(column='시간대_매출금액', ax=ax, marker='o', markersize=30, cmap=cmap, legend=True)

example_3.nlargest(5, '시간대_매출금액').plot(column='시간대_매출금액', ax=ax, marker='o', markersize=30, cmap='Reds', legend=True)
ax.axis('off')

plt.show()





# GeoJSON 파일 경로
geo_file_path = "geo_json/gncom_gdf.geojson"
gncom_gdf = gpd.read_file(geo_file_path)
gncom_gdf


def calculate_center_point(gdf):
        gdf['center_point'] = gdf['geometry'].centroid
        gdf['geometry'] = gdf['geometry'].to_crs(epsg='4326')
        gdf['center_point'] = gdf['center_point'].to_crs(epsg='4326')
        gdf['latitude'] = gdf['center_point'].y
        gdf['longitude'] = gdf['center_point'].x
        return gdf


# 데이터 처리
gncom_gdf = calculate_center_point(gncom_gdf)
gncom_gdf


# 데이터프레임을 CSV 파일로 저장하는 코드
gncom_gdf.to_csv('data/gncom_gdf_processed.csv', index=False)


import pandas as pd

# 파일 경로
file_path = 'data/final_reordered.csv'

# CSV 파일을 데이터프레임으로 읽어오기
df = pd.read_csv(file_path)

# 상권_코드_명 별로 그룹화하여 시간대_매출금액의 평균 구하기
average_sales_by_region = df.groupby('상권_코드_명')['시간대_매출금액'].mean()

# 결과를 데이터프레임으로 변환
result_df = average_sales_by_region.reset_index()

# 결과를 CSV 파일로 저장
result_file_path = 'data/average_sales_by_region.csv'
result_df.to_csv(result_file_path, index=False)


import pandas as pd

# 파일 경로
average_sales_file_path = 'data/average_sales_by_region.csv'
gncom_gdf_processed_file_path = 'data/gncom_gdf_processed.csv'

# CSV 파일을 데이터프레임으로 읽어오기
average_sales_df = pd.read_csv(average_sales_file_path)
gncom_gdf_processed_df = pd.read_csv(gncom_gdf_processed_file_path)

# 상권_코드_명을 기준으로 inner join
merged_df = pd.merge(average_sales_df, gncom_gdf_processed_df, on='상권_코드_명', how='inner')

# 시간대_매출금액 컬럼을 시간대_매출금액_평균으로 변경
merged_df.rename(columns={'시간대_매출금액': '시간대_매출금액_평균'}, inplace=True)

# 결과를 CSV 파일로 저장
merged_file_path = 'data/map_data.csv'
merged_df.to_csv(merged_file_path, index=False)




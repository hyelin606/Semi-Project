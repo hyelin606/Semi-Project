import pandas as pd


# row 생략 없이 출력
pd.set_option('display.max_rows', None)
# col 생략 없이 출력
pd.set_option('display.max_columns', None)








# pip install geopandas


'''
import geopandas as gpd

# shp 파일 읽기
shapefile_data = gpd.read_file('data/서울시 상권분석서비스(영역-상권).shp')

# CSV 파일로 저장
shapefile_data.to_csv('data/영역-상권.csv', index=False)
'''


import pandas as pd
area_data = pd.read_csv('data/영역-상권.csv')
area_data.head()





area_data = pd.read_csv('data/영역-상권.csv')

# 컬럼명 변경
new_names = {
    'TRDAR_SE_C' : '상권_구분_코드',
    'TRDAR_SE_1': '상권_구분_코드_명',
    'TRDAR_CD': '상권_코드',
    'TRDAR_CD_N': '상권_코드_명',
    'XCNTS_VALU': '엑스좌표_값',
    'YDNTS_VALU': '와이좌표_값',
    'SIGNGU_CD': '자치구_코드',
    'SIGNGU_CD_': '자치구_코드_명',
    'ADSTRD_CD': '행정동_코드',
    'ADSTRD_CD_': '행정동_코드_명',
    'RELM_AR': '영역_면적'
}

area_data = area_data.rename(columns=new_names)
area_data.head()


area_data.isnull().sum()


list(area_data.columns)


area_data.head()





area_data = area_data[['상권_구분_코드',
 '상권_구분_코드_명',
 '상권_코드',
 '상권_코드_명',
 '자치구_코드',
 '자치구_코드_명',
 '행정동_코드',
 '행정동_코드_명']]


area_data.head()





import pandas as pd

road_data = pd.read_csv('data/(길단위인구-상권).csv', encoding='cp949')
road_data.head()


road_data.info()


road_data.isnull().sum().sum()


road_data['기준_년분기_코드'].value_counts().sort_index()





list(road_data.columns)


road_data = road_data[['기준_년분기_코드',
 '상권_구분_코드',
 '상권_구분_코드_명',
 '상권_코드',
 '상권_코드_명',
'시간대_00_06_유동인구_수',
 '시간대_06_11_유동인구_수',
 '시간대_11_14_유동인구_수',
 '시간대_14_17_유동인구_수',
 '시간대_17_21_유동인구_수',
 '시간대_21_24_유동인구_수',
 '월요일_유동인구_수',
 '화요일_유동인구_수',
 '수요일_유동인구_수',
 '목요일_유동인구_수',
 '금요일_유동인구_수',
 '토요일_유동인구_수',
 '일요일_유동인구_수'
]]


road_data.head()





# 시간대 컬럼을 기준으로 데이터 재구성
road_data = road_data.melt(id_vars=['기준_년분기_코드', '상권_구분_코드', '상권_구분_코드_명', '상권_코드', '상권_코드_명', '월요일_유동인구_수',
 '화요일_유동인구_수',
 '수요일_유동인구_수',
 '목요일_유동인구_수',
 '금요일_유동인구_수',
 '토요일_유동인구_수',
 '일요일_유동인구_수'], 
                        var_name='시간대', value_name='시간대_유동인구_수')



road_data.head()


# '시간대' 컬럼 값을 변경하여 시간대를 더 직관적으로 표현
road_data['시간대'] = road_data['시간대'].replace({
    '시간대_00_06_유동인구_수': '시간대_00~06',
    '시간대_06_11_유동인구_수': '시간대_06~11',
    '시간대_11_14_유동인구_수': '시간대_11~14',
    '시간대_14_17_유동인구_수': '시간대_14~17',
    '시간대_17_21_유동인구_수': '시간대_17~21',
    '시간대_21_24_유동인구_수': '시간대_21~24'
})

# 시간대별 컬럼명 리스트
hourly_columns = ['시간대_00~06', '시간대_06~11', '시간대_11~14', '시간대_14~17', '시간대_17~21', '시간대_21~24']

# 시간대별로 해당 값이 있는지 여부를 1 또는 0으로 설정
for column in hourly_columns:
    road_data[column] = (road_data['시간대'] == column).astype(int)

road_data.head()


road_data['시간대_21~24'].value_counts()


road_data = road_data.drop(columns=['시간대'])
road_data.head()





road_data['평일_유동인구_수_평균'] = road_data[['월요일_유동인구_수', '화요일_유동인구_수', '수요일_유동인구_수', '목요일_유동인구_수', '금요일_유동인구_수']].mean(axis=1)
road_data['주말_유동인구_수_평균'] = road_data[['토요일_유동인구_수', '일요일_유동인구_수']].mean(axis=1)

#기존 컬럼 drop
road_data = road_data.drop(['월요일_유동인구_수', '화요일_유동인구_수', '수요일_유동인구_수', '목요일_유동인구_수', '금요일_유동인구_수', '토요일_유동인구_수', '일요일_유동인구_수'], axis=1)

road_data.head()





resident_data = pd.read_csv('data/(상주인구-상권).csv', encoding='cp949')
resident_data.head()


resident_data.isnull().sum().sum()


resident_data['기준_년분기_코드'].value_counts().sort_index()





resident_data['아파트_가구_수'].value_counts()





# A와 B 컬럼을 직접 비교하여 같은지 다른지 확인
are_equal = resident_data['총_가구_수'] == resident_data['비_아파트_가구_수']

# 모든 값이 True인지 확인
all_equal = are_equal.all()

# all_equal을 출력하여 결과 확인
print(all_equal)





list(resident_data.columns)


resident_data = resident_data[['기준_년분기_코드',
 '상권_구분_코드',
 '상권_구분_코드_명',
 '상권_코드',
 '상권_코드_명',
 '총_상주인구_수',
 '총_가구_수']]


resident_data.head()





income_data = pd.read_csv('data/(소득소비-상권).csv', encoding='cp949')
income_data.head()


income_data.info()


income_data['기준_년분기_코드'].value_counts().sort_index()





income_data.isnull().sum()


income_data = income_data.dropna()


income_data.isnull().sum()





list(income_data.columns)


income_data = income_data[['기준_년분기_코드',
 '상권_구분_코드',
 '상권_구분_코드_명',
 '상권_코드',
 '상권_코드_명',
 '월_평균_소득_금액',
 '소득_구간_코드',
 '지출_총금액']]


income_data.head()





workforce_data = pd.read_csv('data/(직장인구-상권).csv', encoding='cp949')
workforce_data.head()


workforce_data.info()


workforce_data.isnull().sum()


workforce_data['기준_년분기_코드'].value_counts().sort_index()





list(workforce_data.columns)


workforce_data = workforce_data[['기준_년분기_코드',
 '상권_구분_코드',
 '상권_구분_코드_명',
 '상권_코드',
 '상권_코드_명',
 '총_직장_인구_수']]


workforce_data.head()





public_data = pd.read_csv('data/(집객시설-상권).csv', encoding='cp949')
public_data.head()


public_data.shape


public_data.isnull().sum()





public_data = public_data.fillna(0, inplace=False)


public_data.isnull().sum()


public_data['기준_년분기_코드'].value_counts().sort_index()





list(public_data.columns)


public_data = public_data[['기준_년분기_코드',
 '상권_구분_코드',
 '상권_구분_코드_명',
 '상권_코드',
 '상권_코드_명',
 '집객시설_수']]


public_data.head()





estimatedrevenue_data1 = pd.read_csv('data/(추정매출-상권)_2020년.csv', encoding='cp949')
estimatedrevenue_data2 = pd.read_csv('data/(추정매출-상권)_2021년.csv', encoding='cp949')
estimatedrevenue_data3 = pd.read_csv('data/(추정매출-상권)_2022.csv', encoding='cp949')
estimatedrevenue_data4 = pd.read_csv('data/(추정매출-상권)_2023.csv', encoding='cp949')


estimatedrevenue_data = pd.concat([estimatedrevenue_data1, estimatedrevenue_data2, estimatedrevenue_data3, estimatedrevenue_data4], axis=0)


estimatedrevenue_data['기준_년분기_코드'].value_counts().sort_index()


estimatedrevenue_data.info()


estimatedrevenue_data.isnull().sum()





list(estimatedrevenue_data.columns)


estimatedrevenue_data = estimatedrevenue_data[['기준_년분기_코드',
 '상권_구분_코드',
 '상권_구분_코드_명',
 '상권_코드',
 '상권_코드_명',
 '서비스_업종_코드',
 '서비스_업종_코드_명',
'시간대_00~06_매출_금액',
 '시간대_06~11_매출_금액',
 '시간대_11~14_매출_금액',
 '시간대_14~17_매출_금액',
 '시간대_17~21_매출_금액',
 '시간대_21~24_매출_금액']]

estimatedrevenue_data.head()





# 시간대 컬럼을 기준으로 데이터 재구성
estimatedrevenue_data = estimatedrevenue_data.melt(id_vars=['기준_년분기_코드',
 '상권_구분_코드',
 '상권_구분_코드_명',
 '상권_코드',
 '상권_코드_명',
 '서비스_업종_코드',
 '서비스_업종_코드_명'], 
                        var_name='시간대', value_name='시간대_매출금액')



estimatedrevenue_data.head()


# '시간대' 컬럼 값을 변경하여 시간대를 더 직관적으로 표현
estimatedrevenue_data['시간대'] = estimatedrevenue_data['시간대'].replace({
    '시간대_00~06_매출_금액': '시간대_00~06',
    '시간대_06~11_매출_금액': '시간대_06~11',
    '시간대_11~14_매출_금액': '시간대_11~14',
    '시간대_14~17_매출_금액': '시간대_14~17',
    '시간대_17~21_매출_금액': '시간대_17~21',
    '시간대_21~24_매출_금액': '시간대_21~24'
})

# 시간대별 컬럼명 리스트
hourly_columns = ['시간대_00~06', '시간대_06~11', '시간대_11~14', '시간대_14~17', '시간대_17~21', '시간대_21~24']

# 시간대별로 해당 값이 있는지 여부를 1 또는 0으로 설정
for column in hourly_columns:
    estimatedrevenue_data[column] = (estimatedrevenue_data['시간대'] == column).astype(int)

estimatedrevenue_data.head()


estimatedrevenue_data = estimatedrevenue_data.drop(columns=['시간대'])
estimatedrevenue_data.head()





columns_list = [
    list(area_data.columns),
    list(road_data.columns),
    list(resident_data.columns),
    list(income_data.columns),
    list(workforce_data.columns),
    list(public_data.columns),
    list(estimatedrevenue_data.columns)
]

# 컬럼명 리스트를 하나의 데이터프레임으로 변환
columns_df = pd.DataFrame(columns_list)
columns_df = columns_df.transpose()

columns_df 








# 모든 데이터프레임의 컬럼명을 세트로 변환하여 리스트에 저장
dataframes = [area_data, road_data]
column_sets = [set(df.columns) for df in dataframes]

# 모든 데이터프레임의 컬럼명의 교집합(공통된 컬럼)을 추출
common_columns = set.intersection(*column_sets)

# 공통된 컬럼 출력
print("공통된 컬럼:", common_columns)


merged_area_road = pd.merge(area_data, road_data, on=['상권_구분_코드_명', '상권_코드_명', '상권_코드', '상권_구분_코드'], how='outer')
print(list(merged_area_road.columns))
merged_area_road.head()


merged_area_road.info()


merged_area_road.isnull().sum()


merged_area_road.loc[merged_area_road['자치구_코드'].isnull(), : ]





merged_area_road = merged_area_road.dropna(axis=0)


merged_area_road.isnull().sum().sum()





# 모든 데이터프레임의 컬럼명을 세트로 변환하여 리스트에 저장
dataframes = [merged_area_road, estimatedrevenue_data]
column_sets = [set(df.columns) for df in dataframes]

# 모든 데이터프레임의 컬럼명의 교집합(공통된 컬럼)을 추출
common_columns = set.intersection(*column_sets)

# 공통된 컬럼 출력
print("공통된 컬럼:", common_columns)


merged_area_road_revenue = pd.merge(merged_area_road, estimatedrevenue_data, on=['기준_년분기_코드', '상권_구분_코드', '상권_구분_코드_명', '상권_코드', '상권_코드_명', '시간대_00~06', '시간대_06~11', '시간대_11~14', '시간대_14~17', '시간대_17~21', '시간대_21~24'], how='outer')
print(list(merged_area_road_revenue.columns))
merged_area_road_revenue.head()





# 모든 데이터프레임의 컬럼명을 세트로 변환하여 리스트에 저장
dataframes = [merged_area_road_revenue, workforce_data, public_data, resident_data, income_data]
column_sets = [set(df.columns) for df in dataframes]

# 모든 데이터프레임의 컬럼명의 교집합(공통된 컬럼)을 추출
common_columns = set.intersection(*column_sets)

# 공통된 컬럼 출력
print("공통된 컬럼:", common_columns)


merged_df = pd.merge(merged_area_road_revenue, workforce_data, on=['기준_년분기_코드', '상권_구분_코드', '상권_구분_코드_명', '상권_코드', '상권_코드_명'], how='outer')
merged_df = pd.merge(merged_df, public_data, on=['기준_년분기_코드', '상권_구분_코드', '상권_구분_코드_명', '상권_코드', '상권_코드_명'], how='outer')
merged_df = pd.merge(merged_df, resident_data, on=['기준_년분기_코드', '상권_구분_코드', '상권_구분_코드_명', '상권_코드', '상권_코드_명'], how='outer')
merged_df = pd.merge(merged_df, income_data, on=['기준_년분기_코드', '상권_구분_코드', '상권_구분_코드_명', '상권_코드', '상권_코드_명'], how='outer')


merged_df.shape


merged_df.isnull().sum()











merged_df = merged_df.loc[merged_df['자치구_코드_명'] == '강남구', :]
merged_df.head()


merged_df['자치구_코드_명'].value_counts()


merged_df.shape





merged_df['기준_년분기_코드'].value_counts().sort_index()


codes_to_remove = [20191, 20192, 20193, 20194, 20201, 20202, 20203, 20204]
merged_df = merged_df[~merged_df['기준_년분기_코드'].isin(codes_to_remove)]


merged_df['기준_년분기_코드'].value_counts().sort_index()


merged_df.shape





merged_df = merged_df.loc[merged_df['서비스_업종_코드_명'] == '편의점', :]
merged_df = merged_df.reset_index(drop=True)


merged_df['서비스_업종_코드_명'].value_counts()








list(merged_df.columns)


new_columns_order = ['기준_년분기_코드',
'상권_구분_코드',
'상권_구분_코드_명',
'상권_코드',
'상권_코드_명',
'자치구_코드',
'자치구_코드_명',
'행정동_코드',
'행정동_코드_명',
'시간대_00~06',
'시간대_06~11',
'시간대_11~14',
'시간대_14~17',
'시간대_17~21',
'시간대_21~24',
'시간대_매출금액',
'시간대_유동인구_수',
'평일_유동인구_수_평균',
'주말_유동인구_수_평균',
'총_직장_인구_수',
'총_상주인구_수',
'총_가구_수',
'집객시설_수',
'월_평균_소득_금액',
'소득_구간_코드',
'지출_총금액',
'서비스_업종_코드',
'서비스_업종_코드_명']

merged_df = merged_df.reindex(columns=new_columns_order)

list(merged_df.columns)





merged_df.head()


merged_df['기준_년분기_코드'].info()


merged_df['기준_년분기_코드'] = merged_df['기준_년분기_코드'].astype(str).str.rstrip('.0')


# '기준_년분기_코드'를 문자열로 변환하여 기준_년과 기준_분기로 분리
merged_df['기준_년분기_코드'] = merged_df['기준_년분기_코드'].astype(str)

# '기준_년분기_코드'에서 기준_년과 기준_분기 추출
merged_df['기준_년'] = merged_df['기준_년분기_코드'].str[:4]
merged_df['기준_분기'] = merged_df['기준_년분기_코드'].str[-1]

merged_df.head()





columns_to_drop = ['기준_년분기_코드', '서비스_업종_코드', '서비스_업종_코드_명']  # 삭제할 컬럼들의 이름 리스트
merged_df.drop(columns=columns_to_drop, inplace=True)

merged_df.head()


list(merged_df.columns)


# 시간대 컬럼을 기준으로 데이터 재구성
merged_df = merged_df.melt(id_vars=['상권_구분_코드',
 '상권_구분_코드_명',
 '상권_코드',
 '상권_코드_명',
 '자치구_코드',
 '자치구_코드_명',
 '행정동_코드',
 '행정동_코드_명',
 '시간대_00~06',
 '시간대_06~11',
 '시간대_11~14',
 '시간대_14~17',
 '시간대_17~21',
 '시간대_21~24',
 '시간대_매출금액',
 '시간대_유동인구_수',
 '평일_유동인구_수_평균',
 '주말_유동인구_수_평균',
 '총_직장_인구_수',
 '총_상주인구_수',
 '총_가구_수',
 '집객시설_수',
 '월_평균_소득_금액',
 '소득_구간_코드',
 '지출_총금액',
 '기준_년'], 
                        var_name='기준_분기', value_name='기준_분기_값')


merged_df.head()


merged_df['기준_분기_값'].value_counts()


# '기준_분기_값' 컬럼 값을 변경하여 기준_분기를 더 직관적으로 표현
merged_df['기준_분기_값'] = merged_df['기준_분기_값'].replace({
    '1': '1분기',
    '2': '2분기',
    '3': '3분기',
    '4': '4분기'
})

# 시간대별 컬럼명 리스트
hourly_columns = ['1분기', '2분기', '3분기', '4분기']

# 시간대별로 해당 값이 있는지 여부를 1 또는 0으로 설정
for column in hourly_columns:
    merged_df[column] = (merged_df['기준_분기_값'] == column).astype(int)

merged_df.head()


merged_df['4분기'].value_counts()





list(merged_df.columns)


# 순서 변경

new_columns_order = ['기준_년',
                     '상권_구분_코드',
                     '상권_구분_코드_명',
                     '상권_코드',
                     '상권_코드_명',
                     '자치구_코드',
                     '자치구_코드_명',
                     '행정동_코드',
                     '행정동_코드_명',
                     '1분기',
                     '2분기',
                     '3분기',
                     '4분기',
                     '시간대_00~06',
                     '시간대_06~11',
                     '시간대_11~14',
                     '시간대_14~17',
                     '시간대_17~21',
                     '시간대_21~24',
                     '시간대_매출금액',
                     '시간대_유동인구_수',
                     '평일_유동인구_수_평균',
                     '주말_유동인구_수_평균',
                     '총_직장_인구_수',
                     '총_상주인구_수',
                     '총_가구_수',
                     '집객시설_수',
                     '월_평균_소득_금액',
                     '소득_구간_코드',
                     '지출_총금액',
                     '기준_분기_코드',
                     '기준_분기_값']

merged_df = merged_df.reindex(columns=new_columns_order)

list(merged_df.columns)


#불필요한 컬럼 제거
columns_to_drop = ['기준_분기_코드', '기준_분기_값']  # 삭제할 컬럼들의 이름 리스트
merged_df.drop(columns=columns_to_drop, inplace=True)

merged_df.head()





merged_df.shape


merged_df.isnull().sum()


missing_values =merged_df.isnull().sum().sum()

total_cells = merged_df.shape[0] * merged_df.shape[1]
missing_ratio = (missing_values.sum() / total_cells) * 100
print("\n전체 데이터셋에서 결측치 비율: {:.2f}%".format(missing_ratio))





merged_df.to_csv('data/merged_df2.csv', index=False, encoding='utf-8-sig')





rentfee = pd.read_csv('data/상가임대료(공공상가).csv')


rentfee.head()


rentfee_col = list(rentfee.columns)


rentfee_col_split = pd.DataFrame([x.split('|') for x in rentfee_col])
list(rentfee_col_split.iloc[0, :])


# '|'를 기준으로 컬럼 분리
rentfee[['strd_yr',
 'sopsrt_clsf_cd',
 'std_adstrd_cd',
 'adstrd_nm',
 'lnno_adres',
 'exche_gtn',
 'la',
 'lo',
 'data_no']] = rentfee['strd_yr|sopsrt_clsf_cd|std_adstrd_cd|adstrd_nm|lnno_adres|exche_gtn|la|lo|data_no'].str.split('|', expand=True)

# '|' 컬럼 제거
rentfee.drop(columns=['strd_yr|sopsrt_clsf_cd|std_adstrd_cd|adstrd_nm|lnno_adres|exche_gtn|la|lo|data_no'], inplace=True)

# 결과 출력
rentfee.head()


rentfee2 = pd.read_csv('data/매장용빌딩+임대료·공실률+및+수익률_20240310181303.csv')
rentfee2.drop(columns=['지역별(1)'], inplace=True)


rentfee2


독립분석, 분산분석


pd.read_csv('data/SCF_04_20230627_C_001.csv')





import pandas as pd

# CSV 파일을 데이터프레임으로 불러오기
df = pd.read_csv('merged_df2.csv')

# 결측치 확인
missing_values = df.isnull().sum()
print(missing_values)


import pandas as pd

# CSV 파일을 데이터프레임으로 불러오기
df = pd.read_csv('merged_df2.csv')

# '집객시설_수' 열의 결측치를 0으로 채우기
df['집객시설_수'].fillna(0, inplace=True)

# 수정된 데이터프레임을 CSV 파일로 저장
df.to_csv('merged_df2_filled.csv', index=False)


# 결측치 확인
missing_values = df.isnull().sum()
print(missing_values)


import pandas as pd

# CSV 파일을 데이터프레임으로 불러오기
df = pd.read_csv('merged_df2_filled.csv')

# 월_평균_소득_금액이 결측치인 데이터의 행정동_코드_명에서 고유한 값 추출
missing_income_unique_values = df[df['월_평균_소득_금액'].isnull()]['행정동_코드_명'].unique()
print(missing_income_unique_values)


import pandas as pd

# CSV 파일을 데이터프레임으로 불러오기
df = pd.read_csv('merged_df2_filled.csv')

# 행정동_코드_명이 '삼성1동'인 데이터들 필터링
samsung1_data = df[df['행정동_코드_명'] == '삼성1동']

# 삼성1동 데이터들의 월_평균_소득_금액의 평균 계산
average_income_samsung1 = samsung1_data['월_평균_소득_금액'].mean()

print("삼성1동의 월 평균 소득 금액 평균:", average_income_samsung1)


import pandas as pd

# CSV 파일을 데이터프레임으로 불러오기
df = pd.read_csv('merged_df2_filled.csv')

# 행정동_코드_명이 '삼성1동'인 데이터들 필터링
samsung1_data = df[df['행정동_코드_명'] == '삼성1동']

# 삼성1동 데이터들의 월_평균_소득_금액의 평균 계산
average_income_samsung1 = samsung1_data['월_평균_소득_금액'].mean()

# 결측치를 삼성1동의 평균 소득으로 채워주기
df.loc[df['행정동_코드_명'] == '삼성1동', '월_평균_소득_금액'] = df.loc[df['행정동_코드_명'] == '삼성1동', '월_평균_소득_금액'].fillna(average_income_samsung1)

# 수정된 데이터프레임을 파일로 저장
df.to_csv('merged_df2_filled1.csv', index=False)


import pandas as pd

# CSV 파일을 데이터프레임으로 불러오기
df = pd.read_csv('merged_df2_filled1.csv')

# 행정동_코드_명이 '개포2동'인 데이터들 필터링
gaepo2_data = df[df['행정동_코드_명'] == '개포2동']

# 개포2동 데이터들의 월_평균_소득_금액의 평균 계산
average_income_gaepo2 = gaepo2_data['월_평균_소득_금액'].mean()

# 결측치를 개포2동의 평균 소득으로 채워주기
df.loc[df['행정동_코드_명'] == '개포2동', '월_평균_소득_금액'] = df.loc[df['행정동_코드_명'] == '개포2동', '월_평균_소득_금액'].fillna(average_income_gaepo2)

# 수정된 데이터프레임을 파일로 저장
df.to_csv('merged_df2_filled2.csv', index=False)


# 결측치 확인
missing_values = df.isnull().sum()
print(missing_values)


import pandas as pd

# CSV 파일을 데이터프레임으로 불러오기
df = pd.read_csv('merged_df2_filled2.csv')

# 행정동_코드_명이 '삼성1동'인 데이터들 필터링
samsung1_data = df[df['행정동_코드_명'] == '삼성1동']

# 삼성1동 데이터들의 소득_구간_코드의 평균 계산
average_income_code_samsung1 = samsung1_data['소득_구간_코드'].mean()

# 결측치를 삼성1동의 평균 소득_구간_코드로 채워주기
df.loc[df['행정동_코드_명'] == '삼성1동', '소득_구간_코드'] = df.loc[df['행정동_코드_명'] == '삼성1동', '소득_구간_코드'].fillna(average_income_code_samsung1)

# 수정된 데이터프레임을 파일로 저장
df.to_csv('merged_df2_filled3.csv', index=False)


import pandas as pd

# CSV 파일을 데이터프레임으로 불러오기
df = pd.read_csv('merged_df2_filled3.csv')

# 행정동_코드_명이 '개포2동'인 데이터들 필터링
gaepo2_data = df[df['행정동_코드_명'] == '개포2동']

# 개포2동 데이터들의 소득_구간_코드의 평균 계산
average_income_code_gaepo2 = gaepo2_data['소득_구간_코드'].mean()

# 결측치를 개포2동의 평균 소득_구간_코드로 채워주기
df.loc[df['행정동_코드_명'] == '개포2동', '소득_구간_코드'] = df.loc[df['행정동_코드_명'] == '개포2동', '소득_구간_코드'].fillna(average_income_code_gaepo2)

# 수정된 데이터프레임을 파일로 저장
df.to_csv('merged_df2_filled4.csv', index=False)


import pandas as pd

# CSV 파일을 데이터프레임으로 불러오기
df = pd.read_csv('merged_df2_filled4.csv')

# 행정동_코드_명이 '삼성1동'인 데이터들 필터링
samsung1_data = df[df['행정동_코드_명'] == '삼성1동']

# 삼성1동 데이터들의 지출_총금액의 평균 계산
average_spending_samsung1 = samsung1_data['지출_총금액'].mean()

# 결측치를 삼성1동의 평균 지출_총금액으로 채워주기
df.loc[df['행정동_코드_명'] == '삼성1동', '지출_총금액'] = df.loc[df['행정동_코드_명'] == '삼성1동', '지출_총금액'].fillna(average_spending_samsung1)

# 수정된 데이터프레임을 파일로 저장
df.to_csv('merged_df2_filled5.csv', index=False)


import pandas as pd

# CSV 파일을 데이터프레임으로 불러오기
df = pd.read_csv('merged_df2_filled5.csv')

# 행정동_코드_명이 '개포2동'인 데이터들 필터링
gaepo2_data = df[df['행정동_코드_명'] == '개포2동']

# 개포2동 데이터들의 지출_총금액의 평균 계산
average_spending_gaepo2 = gaepo2_data['지출_총금액'].mean()

# 결측치를 개포2동의 평균 지출_총금액으로 채워주기
df.loc[df['행정동_코드_명'] == '개포2동', '지출_총금액'] = df.loc[df['행정동_코드_명'] == '개포2동', '지출_총금액'].fillna(average_spending_gaepo2)

# 수정된 데이터프레임을 파일로 저장
df.to_csv('real_final_data.csv', index=False)


# 결측치 확인
missing_values = df.isnull().sum()
print(missing_values)


import pandas as pd

# 파일 경로에 맞게 수정하세요
file_path = "real_final_data.csv"

# CSV 파일 불러오기
df = pd.read_csv(file_path)





import pandas as pd

# 파일 경로에 맞게 수정하세요
file_path = "real_final_data.csv"

# CSV 파일 불러오기
df = pd.read_csv(file_path)

# 새로운 컬럼 추가 및 조건에 따라 값 할당
df['기준_분기'] = 0  # 새로운 컬럼을 모두 0으로 초기화
df.loc[df['1분기'] == 1, '기준_분기'] = 1
df.loc[df['2분기'] == 1, '기준_분기'] = 2
df.loc[df['3분기'] == 1, '기준_분기'] = 3
df.loc[df['4분기'] == 1, '기준_분기'] = 4

# 결과 확인
print(df.head(1))  # 첫 번째 행 출력

# CSV 파일로 저장
df.to_csv("real_final_data_with_quarter.csv", index=False)


import pandas as pd

# 파일 경로에 맞게 수정하세요
file_path = "real_final_data_with_quarter.csv"

# CSV 파일 불러오기
df = pd.read_csv(file_path)

# 새로운 컬럼 추가 및 조건에 따라 값 할당
df['기준_분기'] = 0  # 새로운 컬럼을 모두 0으로 초기화
df.loc[df['1분기'] == 1, '기준_분기'] = 1
df.loc[df['2분기'] == 1, '기준_분기'] = 2
df.loc[df['3분기'] == 1, '기준_분기'] = 3
df.loc[df['4분기'] == 1, '기준_분기'] = 4

# 1분기, 2분기, 3분기, 4분기 컬럼 삭제
df.drop(columns=['1분기', '2분기', '3분기', '4분기'], inplace=True)

# 결과 확인
print(df.head(1))  # 첫 번째 행 출력

# CSV 파일로 저장
df.to_csv("real_final_data_with_quarter_drop.csv", index=False)


# 컬럼명 추출
columns = df.columns

# 결과 출력
print(columns)


# 컬럼 순서 변경
new_columns_order = ['기준_년', '기준_분기', '상권_구분_코드', '상권_구분_코드_명', '상권_코드', '상권_코드_명', '자치구_코드',
                     '자치구_코드_명', '행정동_코드', '행정동_코드_명', '시간대_00~06', '시간대_06~11', '시간대_11~14',
                     '시간대_14~17', '시간대_17~21', '시간대_21~24', '시간대_매출금액', '시간대_유동인구_수',
                     '평일_유동인구_수_평균', '주말_유동인구_수_평균', '총_직장_인구_수', '총_상주인구_수', '총_가구_수',
                     '집객시설_수', '월_평균_소득_금액', '소득_구간_코드', '지출_총금액']

df = df.reindex(columns=new_columns_order)

# 결과 확인
print(df.head(1))  # 첫 번째 행 출력

# CSV 파일로 저장
df.to_csv("real_final_data_reordered.csv", index=False)


import pandas as pd

# 파일 경로에 맞게 수정하세요
file_path = "data/real_final_data_reordered.csv"

# CSV 파일 불러오기
df_reordered = pd.read_csv(file_path)


import pandas as pd
import numpy as np

# 파일 경로에 맞게 수정하세요
file_path = "data/real_final_data_reordered.csv"

# CSV 파일 불러오기
df_reordered = pd.read_csv(file_path)

# 새로운 시간대 컬럼 추가
df_reordered['시간대'] = ''

conditions = [
    (df_reordered['시간대_00~06'] == 1),
    (df_reordered['시간대_06~11'] == 1),
    (df_reordered['시간대_11~14'] == 1),
    (df_reordered['시간대_14~17'] == 1),
    (df_reordered['시간대_17~21'] == 1),
    (df_reordered['시간대_21~24'] == 1)
]

choices = ['00~06', '06~11', '11~14', '14~17', '17~21', '21~24']

df_reordered['시간대'] = np.select(conditions, choices, default='')

# 결과 확인
print(df_reordered[['시간대_00~06', '시간대_06~11', '시간대_11~14', '시간대_14~17', '시간대_17~21', '시간대_21~24', '시간대']].head())

# 수정된 DataFrame을 CSV 파일로 저장
df_reordered.to_csv("real_final_data_with_time.csv", index=False)


# '시간대_00~06', '시간대_06~11', '시간대_11~14', '시간대_14~17', '시간대_17~21', '시간대_21~24', '시간대' 컬럼 삭제
df_reordered.drop(columns=['시간대_00~06', '시간대_06~11', '시간대_11~14', '시간대_14~17', '시간대_17~21', '시간대_21~24'], inplace=True)

# 결과 확인
print(df_reordered.head(1))  # 첫 번째 행 출력

# CSV 파일로 저장
df_reordered.to_csv("real_final_data_without_time.csv", index=False)


import pandas as pd

# 파일 경로에 맞게 수정하세요
file_path = "real_final_data_without_time.csv"

# CSV 파일 불러오기
df_without_time = pd.read_csv(file_path)

# 컬럼 추출
columns = df_without_time.columns

# 결과 출력
print(columns)


# 컬럼 순서 변경
new_columns_order = ['시간대_매출금액', '기준_년', '기준_분기', '시간대', '상권_구분_코드', '상권_구분_코드_명', '상권_코드', '상권_코드_명', '자치구_코드',
       '자치구_코드_명', '행정동_코드', '행정동_코드_명', '시간대_유동인구_수',
       '평일_유동인구_수_평균', '주말_유동인구_수_평균', '총_직장_인구_수', '총_상주인구_수', '총_가구_수',
       '집객시설_수', '월_평균_소득_금액', '소득_구간_코드', '지출_총금액']

df_reordered = df_reordered.reindex(columns=new_columns_order)

# 결과 확인
print(df_reordered.head(1))  # 첫 번째 행 출력

# CSV 파일로 저장
df_reordered.to_csv("final_reordered.csv", index=False)




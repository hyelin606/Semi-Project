


import pandas as pd

# CSV 파일 불러오기
file_path = 'data/final_merged_update_store_age_df.csv'
df = pd.read_csv(file_path)

# 데이터프레임 확인
df.head(1)


# 컬럼 확인
print(df.columns)





import matplotlib.pyplot as plt

# 한글 폰트 설정
plt.rcParams['font.family'] = 'Malgun Gothic'








import matplotlib.pyplot as plt

# 히스토그램 시각화
plt.figure(figsize=(10, 6))
plt.hist(df['시간대_매출금액'], bins=30, color='skyblue', edgecolor='black')
plt.title('시간대별 매출 금액 분포')
plt.xlabel('시간대_매출금액')
plt.ylabel('빈도')
plt.ticklabel_format(style='plain', axis='x')  # 과학적 표기법 비활성화
plt.show()








import matplotlib.pyplot as plt

# Count the occurrences of each category in '기준_년' column
year_counts = df['기준_년'].value_counts()

# Plot the distribution
plt.figure(figsize=(10, 6))
bars = year_counts.sort_index().plot(kind='bar', color='skyblue')  # Sort by index (year)

# Add text annotations
for i, count in enumerate(year_counts.sort_index()):
    plt.text(i, count + 10, str(count), ha='center')

plt.title('기준 년도 분포')
plt.xlabel('년도')
plt.ylabel('빈도')
plt.xticks(rotation=45, ha='right')
plt.tight_layout()
plt.show()





import matplotlib.pyplot as plt

# Count the occurrences of each category in '기준_분기' column
quarter_counts = df['기준_분기'].value_counts()

# Plot the distribution
plt.figure(figsize=(8, 6))
bars = quarter_counts.sort_index().plot(kind='bar', color='skyblue')  # Sort by index (quarter)

# Add text annotations
for i, count in enumerate(quarter_counts.sort_index()):
    plt.text(i, count + 10, str(count), ha='center')

plt.title('기준 분기별 분포')
plt.xlabel('분기')
plt.ylabel('빈도')
plt.xticks(rotation=0, ha='center')
plt.tight_layout()
plt.show()





import matplotlib.pyplot as plt

# Count the occurrences of each category in '시간대' column
time_counts = df['시간대'].value_counts()

# Plot the distribution
plt.figure(figsize=(10, 6))
bars = time_counts.sort_index().plot(kind='bar', color='skyblue')  # Sort by index

# Add text annotations
for i, count in enumerate(time_counts.sort_index()):
    plt.text(i, count + 10, str(count), ha='center')

plt.title('시간대 분포')
plt.xlabel('시간대')
plt.ylabel('빈도')
plt.xticks(rotation=0, ha='center')
plt.tight_layout()
plt.show()





import matplotlib.pyplot as plt
import matplotlib.font_manager as fm

# Count the occurrences of each category in '상권_구분_코드_명' column
category_counts = df['상권_구분_코드_명'].value_counts()

# Plot the distribution
plt.figure(figsize=(10, 6))
bars = category_counts.sort_index().plot(kind='bar', color='skyblue')  # Sort by index

# Add text annotations
for i, count in enumerate(category_counts.sort_index()):
    plt.text(i, count + 10, str(count), ha='center')

plt.title('상권 구분 코드명 분포')
plt.xlabel('카테고리')
plt.ylabel('빈도')
plt.xticks(rotation=45, ha='right')
plt.tight_layout()
plt.show()





import matplotlib.pyplot as plt
import matplotlib.font_manager as fm

# Count the occurrences of each category in '상권_코드_명' column
category_counts = df['상권_코드_명'].value_counts()

# Plot the distribution
plt.figure(figsize=(50, 10))
bars = category_counts.sort_index().plot(kind='bar', color='skyblue')  # Sort by index

# Add text annotations
for i, count in enumerate(category_counts.sort_index()):
    plt.text(i, count + 10, str(count), ha='center')

plt.title('상권 코드명 분포')
plt.xlabel('카테고리')
plt.ylabel('빈도')
plt.xticks(rotation=45, ha='right')
plt.tight_layout()
plt.show()





import matplotlib.pyplot as plt
import matplotlib.font_manager as fm

# Count the occurrences of each category in '행정동_코드_명' column
category_counts = df['행정동_코드_명'].value_counts()

# Plot the distribution
plt.figure(figsize=(10, 6))
bars = category_counts.sort_index().plot(kind='bar', color='skyblue')  # Sort by index

# Add text annotations
for i, count in enumerate(category_counts.sort_index()):
    plt.text(i, count + 10, str(count), ha='center')

plt.title('행정동 코드명 분포')
plt.xlabel('행정동')
plt.ylabel('빈도')
plt.xticks(rotation=45, ha='right')
plt.tight_layout()
plt.show()





import matplotlib.pyplot as plt

# 소득 구간 코드에 대한 빈도 계산
income_counts = df['소득_구간_코드'].value_counts().sort_index()

# 소득 구간 코드에 대한 히스토그램 시각화
plt.figure(figsize=(10, 6))
bars = income_counts.plot(kind='bar', color='skyblue')

# 막대 위에 텍스트로 값 표시
for i, count in enumerate(income_counts):
    plt.text(i, count + 10, str(count), ha='center')

plt.title('소득 구간 코드별 빈도')
plt.xlabel('소득 구간 코드')
plt.ylabel('빈도')
plt.xticks(rotation=45, ha='right')
plt.tight_layout()
plt.show()








import seaborn as sns
import matplotlib.pyplot as plt
import matplotlib.font_manager as fm

# Plot the distribution
plt.figure(figsize=(10, 6))
sns.histplot(df['시간대_유동인구_수'], bins=20, color='skyblue', edgecolor='black', kde=True)

plt.title('시간대 유동인구 수 분포')
plt.xlabel('유동인구 수')
plt.ylabel('빈도')
plt.tight_layout()
plt.show()





import seaborn as sns
import matplotlib.pyplot as plt
import matplotlib.font_manager as fm

# 히스토그램과 KDE 선을 함께 그리기
plt.figure(figsize=(10, 6))
sns.histplot(df['평일_유동인구_수_평균'], bins=20, color='skyblue', edgecolor='black', kde=True)

plt.title('평일 유동인구 수 평균 분포')
plt.xlabel('유동인구 수')
plt.ylabel('빈도')
plt.tight_layout()
plt.show()





import seaborn as sns
import matplotlib.pyplot as plt
import matplotlib.font_manager as fm

# 히스토그램과 KDE 선을 함께 그리기
plt.figure(figsize=(10, 6))
sns.histplot(df['총_직장_인구_수'], bins=20, color='skyblue', edgecolor='black', kde=True)

plt.title('총 직장 인구 수 분포')
plt.xlabel('직장 인구 수')
plt.ylabel('빈도')
plt.tight_layout()
plt.show()





import seaborn as sns
import matplotlib.pyplot as plt
import matplotlib.font_manager as fm

# 히스토그램과 KDE 선을 함께 그리기
plt.figure(figsize=(10, 6))
sns.histplot(df['총_상주인구_수'], bins=20, color='skyblue', edgecolor='black', kde=True)

plt.title('총 상주 인구 수 분포')
plt.xlabel('상주 인구 수')
plt.ylabel('빈도')
plt.tight_layout()
plt.show()





import seaborn as sns
import matplotlib.pyplot as plt
import matplotlib.font_manager as fm

# 히스토그램과 KDE 선을 함께 그리기
plt.figure(figsize=(10, 6))
sns.histplot(df['총_가구_수'], bins=20, color='skyblue', edgecolor='black', kde=True)

plt.title('총 가구 수 분포')
plt.xlabel('가구 수')
plt.ylabel('빈도')
plt.tight_layout()
plt.show()





import seaborn as sns
import matplotlib.pyplot as plt

# 히스토그램과 KDE 선을 함께 그리기
plt.figure(figsize=(10, 6))
sns.histplot(df['집객시설_수'], bins=20, color='skyblue', edgecolor='black', kde=True)

plt.title('집객시설 수 분포')
plt.xlabel('집객시설 수')
plt.ylabel('빈도')
plt.show()





import seaborn as sns
import matplotlib.pyplot as plt

# 히스토그램과 KDE 선을 함께 그리기
plt.figure(figsize=(10, 6))
sns.histplot(df['월_평균_소득_금액'], bins=20, color='skyblue', edgecolor='black', kde=True)

plt.title('월 평균 소득 금액 분포')
plt.xlabel('월 평균 소득 금액')
plt.ylabel('빈도')
plt.show()





import seaborn as sns
import matplotlib.pyplot as plt

# 히스토그램과 KDE 선을 함께 그리기
plt.figure(figsize=(10, 6))
sns.histplot(df['지출_총금액'], bins=20, color='skyblue', edgecolor='black', kde=True)

plt.title('지출 총금액 분포')
plt.xlabel('지출 총금액')
plt.ylabel('빈도')

# 과학적 표기법 비활성화
plt.ticklabel_format(style='plain', axis='x')

plt.show()








import seaborn as sns
import matplotlib.pyplot as plt

# 히스토그램과 KDE 선을 함께 그리기
plt.figure(figsize=(10, 6))
sns.histplot(df['유사_업종_점포_수'], bins=20, color='skyblue', edgecolor='black', kde=True)

plt.title('유사 업종 점포 분포')
plt.xlabel('유사 업종 점포 수')
plt.ylabel('빈도')
plt.show()


import matplotlib.pyplot as plt

# Count the occurrences of each category in '시간대' column
time_counts = df['개업_점포_수'].value_counts()

# Plot the distribution
plt.figure(figsize=(10, 6))
bars = time_counts.sort_index().plot(kind='bar', color='skyblue')  # Sort by index

# Add text annotations
for i, count in enumerate(time_counts.sort_index()):
    plt.text(i, count + 10, str(count), ha='center')

plt.title('개업 점포 수 분포')
plt.xlabel('개업 점포 수')
plt.ylabel('빈도')
plt.xticks(rotation=0, ha='center')
plt.tight_layout()
plt.show()


import matplotlib.pyplot as plt

# Count the occurrences of each category in '시간대' column
time_counts = df['폐업_점포_수'].value_counts()

# Plot the distribution
plt.figure(figsize=(10, 6))
bars = time_counts.sort_index().plot(kind='bar', color='skyblue')  # Sort by index

# Add text annotations
for i, count in enumerate(time_counts.sort_index()):
    plt.text(i, count + 10, str(count), ha='center')

plt.title('폐업 점포 수 분포')
plt.xlabel('폐업 점포 수')
plt.ylabel('빈도')
plt.xticks(rotation=0, ha='center')
plt.tight_layout()
plt.show()





import pandas as pd

# CSV 파일 불러오기
file_path = 'data/final_reordered.csv'
df = pd.read_csv(file_path)

# 데이터프레임 확인
df.head(1)


# 컬럼 확인
print(df.columns)





import pandas as pd

# 주어진 열 선택
selected_columns = ['시간대_매출금액', '기준_년', '기준_분기', '시간대', '상권_구분_코드', '상권_코드',
                    '행정동_코드', '시간대_유동인구_수', '평일_유동인구_수_평균', '주말_유동인구_수_평균',
                    '총_직장_인구_수', '총_상주인구_수', '총_가구_수', '집객시설_수', '월_평균_소득_금액',
                    '소득_구간_코드', '지출_총금액']

# 주어진 열들로 새로운 데이터프레임 생성
new_df = df[selected_columns]

# 새로운 데이터프레임을 CSV 파일로 저장
new_file_path = 'data/new_dataframe.csv'
new_df.to_csv(new_file_path, index=False)





# 주어진 데이터프레임
df = pd.read_csv('data/new_dataframe.csv')

import pandas as pd

# 시간대를 레이블 인코딩하는 함수 정의
def encode_time(time_str):
    if '00' <= time_str < '06':
        return 1
    elif '06' <= time_str < '11':
        return 2
    elif '11' <= time_str < '14':
        return 3
    elif '14' <= time_str < '17':
        return 4
    elif '17' <= time_str < '21':
        return 5
    elif '21' <= time_str <= '24':
        return 6

# 상권 구분 코드를 레이블 인코딩하는 함수 정의
def encode_market_code(code):
    if code == 'A':
        return 1
    elif code == 'D':
        return 2
    elif code == 'R':
        return 3
    elif code == 'U':
        return 4

# 주어진 데이터프레임
df = pd.read_csv('data/new_dataframe.csv')

# 시간대를 레이블 인코딩하여 새로운 컬럼 생성
df['시간대_레이블'] = df['시간대'].apply(encode_time)

# 상권 구분 코드를 레이블 인코딩하여 새로운 컬럼 생성
df['상권_구분_코드_레이블'] = df['상권_구분_코드'].apply(encode_market_code)

# 결과 확인
print(df[['시간대', '시간대_레이블']].head())
print(df[['상권_구분_코드', '상권_구분_코드_레이블']].head())

# 시간대와 상권_구분_코드 컬럼 삭제
df.drop(['시간대', '상권_구분_코드'], axis=1, inplace=True)

# 파일로 저장
df.to_csv('data/encoded_dataframe.csv', index=False)


df.head(1)





df = pd.read_csv('data/encoded_dataframe.csv')








from scipy.stats import levene

# Levene 검정 수행
levene_test_result = levene(df['시간대_매출금액'], df['시간대_유동인구_수'], df['평일_유동인구_수_평균'], df['주말_유동인구_수_평균'], df['총_직장_인구_수'], df['총_상주인구_수'], df['총_가구_수'], df['집객시설_수'], df['월_평균_소득_금액'], df['지출_총금액'])

# 결과 출력
print("Levene Test 결과:")
print("Statistic:", levene_test_result.statistic)
print("p-value:", levene_test_result.pvalue)














import statsmodels.api as sm
import matplotlib.pyplot as plt

# 종속 변수
dependent_variable = '시간대_매출금액'

# 독립 변수
independent_variables = [
    '시간대_유동인구_수', 
    '평일_유동인구_수_평균', 
    '주말_유동인구_수_평균', 
    '총_직장_인구_수', 
    '총_상주인구_수', 
    '총_가구_수', 
    '집객시설_수',
    '월_평균_소득_금액',
    '지출_총금액'
]

# 상수항 추가
X = sm.add_constant(df[independent_variables])

# 모델 학습
model = sm.OLS(df[dependent_variable], X).fit()

# 결과 출력
print(model.summary())


# 예측값과 실제값의 산점도 그리기
plt.figure(figsize=(10, 6))
plt.scatter(df[dependent_variable], model.predict(), alpha=0.5)
plt.title('Predicted vs Actual')
plt.xlabel('Actual')
plt.ylabel('Predicted')
plt.show()


residuals = model.resid
plt.scatter(model.predict(), residuals, alpha=0.5)
plt.xlabel('Predicted Values')
plt.ylabel('Residuals')
plt.axhline(y=0, color='r', linestyle='--')
plt.title('Residuals vs Fitted')
plt.show()


coefficients = model.params.drop('const')
coefficients.plot(kind='bar')
plt.title('Coefficient Importance')
plt.xlabel('Independent Variables')
plt.ylabel('Coefficients')
plt.show()








from statsmodels.stats.outliers_influence import variance_inflation_factor

# 독립 변수 데이터
X_data = df[independent_variables]

# VIF 계산
vif_data = pd.DataFrame()
vif_data["feature"] = X_data.columns
vif_data["VIF"] = [variance_inflation_factor(X_data.values, i) for i in range(X_data.shape[1])]

print(vif_data)


from statsmodels.stats.outliers_influence import variance_inflation_factor

# 총 상주인구 수를 제외한 독립 변수 데이터
independent_variables_excluding_resident_population = [
    '시간대_유동인구_수', 
    '평일_유동인구_수_평균', 
    '주말_유동인구_수_평균', 
    '총_직장_인구_수', 
    '총_가구_수', 
    '집객시설_수',
    '월_평균_소득_금액',
    '지출_총금액'
]

X_data_excluding_resident_population = df[independent_variables_excluding_resident_population]

# VIF 계산
vif_data_excluding_resident_population = pd.DataFrame()
vif_data_excluding_resident_population["feature"] = X_data_excluding_resident_population.columns
vif_data_excluding_resident_population["VIF"] = [variance_inflation_factor(X_data_excluding_resident_population.values, i) for i in range(X_data_excluding_resident_population.shape[1])]

print(vif_data_excluding_resident_population)


# 평일 유동인구 수 평균과 주말 유동인구 수 평균을 평균내기
df['유동인구_수_평균'] = (df['평일_유동인구_수_평균'] + df['주말_유동인구_수_평균']) / 2

# 총 상주인구 수를 제외한 독립 변수 데이터
independent_variables_modified = [
    '시간대_유동인구_수', 
    '유동인구_수_평균', 
    '총_직장_인구_수', 
    '총_가구_수', 
    '집객시설_수',
    '월_평균_소득_금액',
    '지출_총금액'
]

X_data_modified = df[independent_variables_modified]

# VIF 계산
vif_data_modified = pd.DataFrame()
vif_data_modified["feature"] = X_data_modified.columns
vif_data_modified["VIF"] = [variance_inflation_factor(X_data_modified.values, i) for i in range(X_data_modified.shape[1])]

print(vif_data_modified)





# 종속 변수를 포함하여 데이터프레임 생성
df_modified = df[[dependent_variable] + independent_variables_modified]

# CSV 파일로 저장
df_modified.to_csv('data/modified_dataframe.csv', index=False)


import pandas as pd
import statsmodels.api as sm

# 데이터 불러오기
df_modified = pd.read_csv('data/modified_dataframe.csv')

# 종속 변수
dependent_variable = '시간대_매출금액'

# 독립 변수
independent_variables = [
    '시간대_유동인구_수', 
    '유동인구_수_평균', 
    '총_직장_인구_수', 
    '총_가구_수', 
    '집객시설_수',
    '월_평균_소득_금액',
    '지출_총금액'
]

# 상수항 추가
X = sm.add_constant(df_modified[independent_variables])

# 모델 학습
model = sm.OLS(df_modified[dependent_variable], X).fit()

# 결과 출력
print(model.summary())


from statsmodels.stats.outliers_influence import variance_inflation_factor

# VIF 계산
vif_data = pd.DataFrame()
vif_data["feature"] = X.columns
vif_data["VIF"] = [variance_inflation_factor(X.values, i) for i in range(len(X.columns))]

print(vif_data)

















pip install lightgbm


import pandas as pd
import lightgbm as lgb
from sklearn.model_selection import train_test_split
from sklearn.metrics import mean_squared_error

# 데이터 불러오기
file_path = 'data/final_reordered.csv'
df = pd.read_csv(file_path)
df.head(1)





import pandas as pd
import lightgbm as lgb
from sklearn.model_selection import train_test_split
from sklearn.metrics import mean_squared_error
from sklearn.preprocessing import LabelEncoder

# 데이터 불러오기
file_path = 'data/final_reordered.csv'
df = pd.read_csv(file_path)

# 카테고리형 변수 라벨 인코딩
label_encoder = LabelEncoder()
for col in ['시간대', '상권_구분_코드', '상권_구분_코드_명', '상권_코드_명', '자치구_코드_명', '행정동_코드_명']:
    df[col] = label_encoder.fit_transform(df[col])

# 독립 변수와 종속 변수 분리
X = df.drop(columns=['시간대_매출금액'])
y = df['시간대_매출금액']

# 데이터 분할
X_train, X_test, y_train, y_test = train_test_split(X, y, test_size=0.2, random_state=42)

# LightGBM 데이터셋 생성
train_data = lgb.Dataset(X_train, label=y_train)
test_data = lgb.Dataset(X_test, label=y_test, reference=train_data)

# LightGBM 모델 학습
params = {
    'objective': 'regression',
    'metric': 'mse',
    'num_boost_round': 1000,  # 최대 트리 개수 지정
    'early_stopping_rounds': 50,  # 조기 종료 설정
}
model = lgb.train(params, train_data, valid_sets=[test_data])

# 테스트 데이터로 예측
y_pred = model.predict(X_test, num_iteration=model.best_iteration)

# 모델 평가
mse = mean_squared_error(y_test, y_pred)
print("평균 제곱 오차 (MSE):", mse)


# CSV 파일로 저장
output_file_path = 'data/final_reordered_encoded.csv'
df.to_csv(output_file_path, index=False)




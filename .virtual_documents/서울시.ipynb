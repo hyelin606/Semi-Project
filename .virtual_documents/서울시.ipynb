


import pandas as pd

# Provide the correct file path and encoding
file_path = 'data/2022년 파일/(추정매출-상권)_2022_편의점.csv'
encoding_type = 'euc-kr'

# Read the CSV file into a DataFrame
data = pd.read_csv(file_path, encoding=encoding_type)

# Do some operations or modifications on the DataFrame if needed

# Save the modified DataFrame to a new CSV file
output_file_path = 'data/2022년 파일/(추정매출-상권)_2022_편의점(인코딩).csv'
data.to_csv(output_file_path, index=False)

# Display a message indicating successful saving
print(f'DataFrame has been successfully saved to {output_file_path}')


import pandas as pd

# Provide the correct file path and encoding
file_path = 'data/원본파일/(영역-상권).csv'
encoding_type = 'euc-kr'  # Change to the appropriate encoding if needed

# Read the CSV file into a DataFrame
original_data = pd.read_csv(file_path, encoding=encoding_type)

# Do some operations or modifications on the original DataFrame if needed

# Save the modified DataFrame to a new CSV file
output_original_file_path = 'data/원본파일/(영역-상권)(인코딩).csv'
original_data.to_csv(output_original_file_path, index=False)

# Display a message indicating successful saving
print(f'Original DataFrame has been successfully saved to {output_original_file_path}')





import pandas as pd
import chardet

# 파일 인코딩 확인 함수
def get_encoding(file_path):
    with open(file_path, 'rb') as f:
        result = chardet.detect(f.read())
    return result['encoding']

# CSV 파일 불러오기 (인코딩 자동 감지)
file_path1 = 'data/2022년 파일/(추정매출-상권)_2022_편의점(인코딩).csv'
file_path2 = 'data/원본파일/(영역-상권)(인코딩).csv'

file_encoding1 = get_encoding(file_path1)
file_encoding2 = get_encoding(file_path2)

data1 = pd.read_csv(file_path1, encoding=file_encoding1)
data2 = pd.read_csv(file_path2, encoding=file_encoding2)

# 두 데이터프레임을 기준 열들을 사용하여 merge
merged_data = pd.merge(data1, data2, on=['상권_구분_코드', '상권_구분_코드_명', '상권_코드', '상권_코드_명'], how='inner')

# 결과 데이터 확인
print(merged_data.head())

# 중복된 행 확인
duplicates = merged_data[merged_data.duplicated()]

# 중복된 행 출력
print("중복된 행 개수:", len(duplicates))
print("중복된 행 데이터:")
print(duplicates)

# 결과 데이터 저장
output_path = 'data/merged_data.csv'
merged_data.to_csv(output_path, index=False)


import pandas as pd
import chardet

# 파일 인코딩 확인 함수
def get_encoding(file_path):
    with open(file_path, 'rb') as f:
        result = chardet.detect(f.read())
    return result['encoding']

# CSV 파일 불러오기 (인코딩 자동 감지)
file_path1 = 'data/merged_data.csv'
file_path2 = 'data/2022년 파일/(길단위인구-상권)_2022.csv'

file_encoding1 = get_encoding(file_path1)
file_encoding2 = get_encoding(file_path2)

data1 = pd.read_csv(file_path1, encoding=file_encoding1)
data2 = pd.read_csv(file_path2, encoding=file_encoding2)

# 두 데이터프레임을 기준 열들을 사용하여 merge
merged_data = pd.merge(data1, data2, on=['기준_년분기_코드', '상권_구분_코드', '상권_구분_코드_명', '상권_코드', '상권_코드_명'], how='inner')

# 결과 데이터 확인
print(merged_data.head())

# 중복된 행 확인
duplicates = merged_data[merged_data.duplicated()]

# 중복된 행 출력
print("중복된 행 개수:", len(duplicates))
print("중복된 행 데이터:")
print(duplicates)

# 결과 데이터 저장
output_path = 'data/merged_data2.csv'
merged_data.to_csv(output_path, index=False)


import pandas as pd
import chardet

# 파일 인코딩 확인 함수
def get_encoding(file_path):
    with open(file_path, 'rb') as f:
        result = chardet.detect(f.read())
    return result['encoding']

# CSV 파일 불러오기 (인코딩 자동 감지)
file_path1 = 'data/merged_data2.csv'
file_path2 = 'data/2022년 파일/(상주인구-상권)_2022.csv'

file_encoding1 = get_encoding(file_path1)
file_encoding2 = get_encoding(file_path2)

data1 = pd.read_csv(file_path1, encoding=file_encoding1)
data2 = pd.read_csv(file_path2, encoding=file_encoding2)

# 두 데이터프레임을 기준 열들을 사용하여 merge
merged_data = pd.merge(data1, data2, on=['기준_년분기_코드', '상권_구분_코드', '상권_구분_코드_명', '상권_코드', '상권_코드_명'], how='inner')

# 결과 데이터 확인
print(merged_data.head())

# 중복된 행 확인
duplicates = merged_data[merged_data.duplicated()]

# 중복된 행 출력
print("중복된 행 개수:", len(duplicates))
print("중복된 행 데이터:")
print(duplicates)

# 결과 데이터 저장
output_path = 'data/merged_data3.csv'
merged_data.to_csv(output_path, index=False)


# 데이터 개수 3413 => 3396


import pandas as pd
import chardet

# 파일 인코딩 확인 함수
def get_encoding(file_path):
    with open(file_path, 'rb') as f:
        result = chardet.detect(f.read())
    return result['encoding']

# CSV 파일 불러오기 (인코딩 자동 감지)
file_path1 = 'data/merged_data3.csv'
file_path2 = 'data/2022년 파일/(직장인구-상권)_2022.csv'

file_encoding1 = get_encoding(file_path1)
file_encoding2 = get_encoding(file_path2)

data1 = pd.read_csv(file_path1, encoding=file_encoding1)
data2 = pd.read_csv(file_path2, encoding=file_encoding2)

# 두 데이터프레임을 기준 열들을 사용하여 merge
merged_data = pd.merge(data1, data2, on=['기준_년분기_코드', '상권_구분_코드', '상권_구분_코드_명', '상권_코드', '상권_코드_명'], how='inner')

# 결과 데이터 확인
print(merged_data.head())

# 중복된 행 확인
duplicates = merged_data[merged_data.duplicated()]

# 중복된 행 출력
print("중복된 행 개수:", len(duplicates))
print("중복된 행 데이터:")
print(duplicates)

# 결과 데이터 저장
output_path = 'data/merged_data4.csv'
merged_data.to_csv(output_path, index=False)


import pandas as pd
import chardet

# 파일 인코딩 확인 함수
def get_encoding(file_path):
    with open(file_path, 'rb') as f:
        result = chardet.detect(f.read())
    return result['encoding']

# CSV 파일 불러오기 (인코딩 자동 감지)
file_path1 = 'data/merged_data4.csv'
file_path2 = 'data/2022년 파일/(소득소비-상권)_2022.csv'

file_encoding1 = get_encoding(file_path1)
file_encoding2 = get_encoding(file_path2)

data1 = pd.read_csv(file_path1, encoding=file_encoding1)
data2 = pd.read_csv(file_path2, encoding=file_encoding2)

# 두 데이터프레임을 기준 열들을 사용하여 merge
merged_data = pd.merge(data1, data2, on=['기준_년분기_코드', '상권_구분_코드', '상권_구분_코드_명', '상권_코드', '상권_코드_명'], how='inner')

# 결과 데이터 확인
print(merged_data.head())

# 중복된 행 확인
duplicates = merged_data[merged_data.duplicated()]

# 중복된 행 출력
print("중복된 행 개수:", len(duplicates))
print("중복된 행 데이터:")
print(duplicates)

# 결과 데이터 저장
output_path = 'data/merged_data5.csv'
merged_data.to_csv(output_path, index=False)


import pandas as pd
import chardet

# 파일 인코딩 확인 함수
def get_encoding(file_path):
    with open(file_path, 'rb') as f:
        result = chardet.detect(f.read())
    return result['encoding']

# CSV 파일 불러오기 (인코딩 자동 감지)
file_path1 = 'data/merged_data5.csv'
file_path2 = 'data/2022년 파일/(집객시설-상권)_2022.csv'

file_encoding1 = get_encoding(file_path1)
file_encoding2 = get_encoding(file_path2)

data1 = pd.read_csv(file_path1, encoding=file_encoding1)
data2 = pd.read_csv(file_path2, encoding=file_encoding2)

# 두 데이터프레임을 기준 열들을 사용하여 merge
merged_data = pd.merge(data1, data2, on=['기준_년분기_코드', '상권_구분_코드', '상권_구분_코드_명', '상권_코드', '상권_코드_명'], how='inner')

# 결과 데이터 확인
print(merged_data.head())

# 중복된 행 확인
duplicates = merged_data[merged_data.duplicated()]

# 중복된 행 출력
print("중복된 행 개수:", len(duplicates))
print("중복된 행 데이터:")
print(duplicates)

# 결과 데이터 저장
output_path = 'data/merged_data_final.csv'
merged_data.to_csv(output_path, index=False)





import pandas as pd

# 파일 경로 설정
file_path = 'data/서울시 파일/merged_data_final.csv'

# CSV 파일 불러오기
df = pd.read_csv(file_path)

# 데이터 확인
print(df.head(1))


# 결측치 확인
missing_values = df.isnull().sum()

# 결과 출력
print(missing_values)


# 결측치가 있는 컬럼 확인
columns_with_missing_values = df.columns[df.isnull().any()]

# 결과 출력
print("결측치가 있는 컬럼:", columns_with_missing_values)


# '지출_총금액'이 결측치인 행 삭제
df = df.dropna(subset=['지출_총금액'])

# 데이터프레임의 행의 개수 확인
data_count = df.shape[0]

# 결과 출력
print("데이터 개수:", data_count)


# 결측치가 있는 컬럼 확인
columns_with_missing_values = df.columns[df.isnull().any()]

# 결과 출력
print("결측치가 있는 컬럼:", columns_with_missing_values)


# 결측치가 있는 컬럼을 0으로 채우기
df[columns_with_missing_values] = df[columns_with_missing_values].fillna(0)

# 결과 출력
print(df.head())


# 결측치가 있는 컬럼 확인
columns_with_missing_values_after_fillna = df.columns[df.isnull().any()]

# 결과 출력
print("대체 후 결측치가 있는 컬럼:", columns_with_missing_values_after_fillna)


# CSV 파일로 저장
df.to_csv('data/서울시 파일/filled_data.csv', index=False)








import pandas as pd

# CSV 파일 불러오기
file_path = 'data/서울시 파일/filled_data.csv'
df = pd.read_csv(file_path)

# 특정 컬럼 삭제
columns_to_drop = ['상권_구분_코드', '상권_코드', '서비스_업종_코드', '서비스_업종_코드_명', '자치구_코드', '행정동_코드', '아파트_가구_수']
df = df.drop(columns=columns_to_drop)

# 수정된 데이터프레임 확인
print(df.head())

# 수정된 데이터프레임을 새로운 CSV 파일로 저장
df.to_csv('data/서울시 파일/modified_data.csv', index=False)





file_path = 'data/서울시 파일/modified_data.csv'
df = pd.read_csv(file_path)


# Print the results
print(f'Number of rows: {num_rows}')
print(f'Number of columns: {num_columns}')


import matplotlib.pyplot as plt

# 한글 폰트 설정
plt.rcParams['font.family'] = 'Malgun Gothic'








import pandas as pd
import matplotlib.pyplot as plt
from matplotlib import font_manager, rc

# Load the CSV file
file_path = 'data/서울시 파일/modified_data.csv'
df = pd.read_csv(file_path)

# Group the data by '상권_코드_명' and calculate the sum of monthly sales
monthly_sales_by_market_name = df.groupby('상권_코드_명')['당월_매출_금액'].sum()

# 폰트 설정
font_path = 'C:\\Windows\\Fonts\\malgun.ttf'  # 맑은 고딕 폰트 경로
font_name = font_manager.FontProperties(fname=font_path).get_name()
rc('font', family=font_name)

# Visualization
plt.figure(figsize=(20, 6))
monthly_sales_by_market_name.sort_values(ascending=False).plot(kind='bar', color='green')
plt.title('상권별 월간 매출액')
plt.xlabel('상권 명')
plt.ylabel('월간 매출액 (전체)')
plt.xticks(rotation=45, ha='right')

# y 축 단위를 전체로 설정
plt.ticklabel_format(axis='y', style='plain', useOffset=False)
plt.show()




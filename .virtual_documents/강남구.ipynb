


import pandas as pd

# 파일 경로 리스트 지정
file_paths = [
    'data/(길단위인구-상권).csv',
    'data/(상주인구-상권).csv',
    'data/(직장인구-상권).csv',
    'data/(소득소비-상권).csv',
    'data/(집객시설-상권).csv'
]

# 각 파일을 불러와서 데이터프레임으로 저장
dataframes = [pd.read_csv(file, encoding='cp949') for file in file_paths]

# 데이터프레임 확인
for i, df in enumerate(dataframes):
    print(f"데이터프레임 {i + 1}:")
    print(df.head())
    print("\n")





import pandas as pd

# 파일 경로 리스트 지정
file_paths = [
    'data/(길단위인구-상권).csv',
    'data/(상주인구-상권).csv',
    'data/(소득소비-상권).csv',
    'data/(직장인구-상권).csv',
    'data/(집객시설-상권).csv'
]

# 각 파일을 불러와서 데이터프레임으로 저장
dataframes = [pd.read_csv(file, encoding='cp949') for file in file_paths]

# 데이터프레임에서 기준_년분기_코드가 '2022'인 행만 추출
dataframes_2022 = [df[df['기준_년분기_코드'].astype(str).str.contains('2022')] for df in dataframes]

# 추출된 데이터프레임 확인
for i, df_2022 in enumerate(dataframes_2022):
    print(f"2022년 데이터프레임 {i + 1}:")
    print(df_2022.head())
    print("\n")


for i, df_2022 in enumerate(dataframes_2022):
    # CSV 파일로 저장
    output_file_path = f'2022년_데이터_{i + 1}.csv'
    df_2022.to_csv(output_file_path, index=False)

    print(f"'{output_file_path}' 파일로 저장 완료")

# 파일명 변경 & 파일 위치 이동


# '서비스_업종_코드_명'이 '편의점'인 행만 추출
convenience_store_data = data[data['서비스_업종_코드_명'] == '편의점']

# 추출된 데이터프레임을 CSV 파일로 저장
output_file_path = 'data/(추정매출-상권)_2022_편의점.csv'
convenience_store_data.to_csv(output_file_path, index=False, encoding='cp949')

print(f"Data with '서비스_업종_코드_명' as '편의점' has been saved to {output_file_path}.")


import pandas as pd

# 파일 경로 리스트 지정
file_paths = [
    'data/(길단위인구-상권)_2022.csv',
    'data/(상주인구-상권)_2022.csv',
    'data/(소득소비-상권)_2022.csv',
    'data/(직장인구-상권)_2022.csv',
    'data/(집객시설-상권)_2022.csv',
]

# 각 파일을 불러와서 데이터프레임으로 저장
dataframes = [pd.read_csv(file, encoding='utf-8') for file in file_paths]

# 결측치 확인
for i, df in enumerate(dataframes):
    print(f"결측치 확인 - 데이터프레임 {i + 1}:")
    print(df.isnull().sum())
    print("\n")





import pandas as pd
import chardet

# 파일 인코딩 확인 함수
def get_encoding(file_path):
    with open(file_path, 'rb') as f:
        result = chardet.detect(f.read())
    return result['encoding']

# CSV 파일 불러오기 (인코딩 자동 감지)
file_path1 = 'data/(추정매출-상권)_2022_편의점.csv'
file_path2 = 'data/(강남구-상권).csv'

file_encoding1 = get_encoding(file_path1)
file_encoding2 = get_encoding(file_path2)

data1 = pd.read_csv(file_path1, encoding=file_encoding1)
data2 = pd.read_csv(file_path2, encoding=file_encoding2)

# 두 데이터프레임을 기준 열들을 사용하여 merge
merged_data = pd.merge(data1, data2, on=['상권_구분_코드', '상권_구분_코드_명', '상권_코드', '상권_코드_명'], how='inner')

# 결과 데이터 확인
print(merged_data.head())

# 중복된 행 확인
duplicates = merged_data[merged_data.duplicated()]

# 중복된 행 출력
print("중복된 행 개수:", len(duplicates))
print("중복된 행 데이터:")
print(duplicates)

# 결과 데이터 저장
output_path = 'data/merged_data.csv'
merged_data.to_csv(output_path, index=False)


import pandas as pd
import chardet

# 파일 인코딩 확인 함수
def get_encoding(file_path):
    with open(file_path, 'rb') as f:
        result = chardet.detect(f.read())
    return result['encoding']

# CSV 파일 불러오기 (인코딩 자동 감지)
file_path1 = 'data/merged_data.csv'
file_path2 = 'data/(길단위인구-상권)_2022.csv'

file_encoding1 = get_encoding(file_path1)
file_encoding2 = get_encoding(file_path2)

data1 = pd.read_csv(file_path1, encoding=file_encoding1)
data2 = pd.read_csv(file_path2, encoding=file_encoding2)

# 두 데이터프레임을 기준 열들을 사용하여 merge
merged_data = pd.merge(data1, data2, on=['기준_년분기_코드', '상권_구분_코드', '상권_구분_코드_명', '상권_코드', '상권_코드_명'], how='inner')

# 결과 데이터 확인
print(merged_data.head())

# 중복된 행 확인
duplicates = merged_data[merged_data.duplicated()]

# 중복된 행 출력
print("중복된 행 개수:", len(duplicates))
print("중복된 행 데이터:")
print(duplicates)

# 결과 데이터 저장
output_path = 'data/merged_data2_data.csv'
merged_data.to_csv(output_path, index=False)


import pandas as pd
import chardet

# 파일 인코딩 확인 함수
def get_encoding(file_path):
    with open(file_path, 'rb') as f:
        result = chardet.detect(f.read())
    return result['encoding']

# CSV 파일 불러오기 (인코딩 자동 감지)
file_path1 = 'data/merged_data2_data.csv'
file_path2 = 'data/(상주인구-상권)_2022.csv'

file_encoding1 = get_encoding(file_path1)
file_encoding2 = get_encoding(file_path2)

data1 = pd.read_csv(file_path1, encoding=file_encoding1)
data2 = pd.read_csv(file_path2, encoding=file_encoding2)

# 두 데이터프레임을 기준 열들을 사용하여 merge
merged_data = pd.merge(data1, data2, on=['기준_년분기_코드', '상권_구분_코드', '상권_구분_코드_명', '상권_코드', '상권_코드_명'], how='inner')

# 결과 데이터 확인
print(merged_data.head())

# 중복된 행 확인
duplicates = merged_data[merged_data.duplicated()]

# 중복된 행 출력
print("중복된 행 개수:", len(duplicates))
print("중복된 행 데이터:")
print(duplicates)

# 결과 데이터 저장
output_path = 'data/merged_data3.csv'
merged_data.to_csv(output_path, index=False)


import pandas as pd
import chardet

# 파일 인코딩 확인 함수
def get_encoding(file_path):
    with open(file_path, 'rb') as f:
        result = chardet.detect(f.read())
    return result['encoding']

# CSV 파일 불러오기 (인코딩 자동 감지)
file_path1 = 'data/merged_data3.csv'
file_path2 = 'data/(소득소비-상권)_2022.csv'

file_encoding1 = get_encoding(file_path1)
file_encoding2 = get_encoding(file_path2)

data1 = pd.read_csv(file_path1, encoding=file_encoding1)
data2 = pd.read_csv(file_path2, encoding=file_encoding2)

# 두 데이터프레임을 기준 열들을 사용하여 merge
merged_data = pd.merge(data1, data2, on=['기준_년분기_코드', '상권_구분_코드', '상권_구분_코드_명', '상권_코드', '상권_코드_명'], how='inner')

# 결과 데이터 확인
print(merged_data.head())

# 중복된 행 확인
duplicates = merged_data[merged_data.duplicated()]

# 중복된 행 출력
print("중복된 행 개수:", len(duplicates))
print("중복된 행 데이터:")
print(duplicates)

# 결과 데이터 저장
output_path = 'data/merged_data4.csv'
merged_data.to_csv(output_path, index=False)


import pandas as pd
import chardet

# 파일 인코딩 확인 함수
def get_encoding(file_path):
    with open(file_path, 'rb') as f:
        result = chardet.detect(f.read())
    return result['encoding']

# CSV 파일 불러오기 (인코딩 자동 감지)
file_path1 = 'data/merged_data4.csv'
file_path2 = 'data/(직장인구-상권)_2022.csv'

file_encoding1 = get_encoding(file_path1)
file_encoding2 = get_encoding(file_path2)

data1 = pd.read_csv(file_path1, encoding=file_encoding1)
data2 = pd.read_csv(file_path2, encoding=file_encoding2)

# 두 데이터프레임을 기준 열들을 사용하여 merge
merged_data = pd.merge(data1, data2, on=['기준_년분기_코드', '상권_구분_코드', '상권_구분_코드_명', '상권_코드', '상권_코드_명'], how='inner')

# 결과 데이터 확인
print(merged_data.head())

# 중복된 행 확인
duplicates = merged_data[merged_data.duplicated()]

# 중복된 행 출력
print("중복된 행 개수:", len(duplicates))
print("중복된 행 데이터:")
print(duplicates)

# 결과 데이터 저장
output_path = 'data/merged_data5.csv'
merged_data.to_csv(output_path, index=False)


import pandas as pd
import chardet

# 파일 인코딩 확인 함수
def get_encoding(file_path):
    with open(file_path, 'rb') as f:
        result = chardet.detect(f.read())
    return result['encoding']

# CSV 파일 불러오기 (인코딩 자동 감지)
file_path1 = 'data/merged_data5.csv'
file_path2 = 'data/(집객시설-상권)_2022.csv'

file_encoding1 = get_encoding(file_path1)
file_encoding2 = get_encoding(file_path2)

data1 = pd.read_csv(file_path1, encoding=file_encoding1)
data2 = pd.read_csv(file_path2, encoding=file_encoding2)

# 두 데이터프레임을 기준 열들을 사용하여 merge
merged_data = pd.merge(data1, data2, on=['기준_년분기_코드', '상권_구분_코드', '상권_구분_코드_명', '상권_코드', '상권_코드_명'], how='inner')

# 결과 데이터 확인
print(merged_data.head())

# 중복된 행 확인
duplicates = merged_data[merged_data.duplicated()]

# 중복된 행 출력
print("중복된 행 개수:", len(duplicates))
print("중복된 행 데이터:")
print(duplicates)

# 결과 데이터 저장
output_path = 'data/merged_final_data.csv'
merged_data.to_csv(output_path, index=False)





import pandas as pd

# 파일 경로 설정
file_path = 'data/강남구 파일/merged_final_data.csv'

# CSV 파일 불러오기
df = pd.read_csv(file_path)

# 데이터 확인
print(df.head(1))


# 결측치 확인
missing_values = df.isnull().sum()

# 결과 출력
print(missing_values)


# 결측치가 있는 컬럼 확인
columns_with_missing_values = df.columns[df.isnull().any()]

# 결과 출력
print("결측치가 있는 컬럼:", columns_with_missing_values)


# '지출_총금액'이 결측치인 행 삭제
df = df.dropna(subset=['지출_총금액'])

# 데이터프레임의 행의 개수 확인
data_count = df.shape[0]

# 결과 출력
print("데이터 개수:", data_count)


# 결측치가 있는 컬럼 확인
columns_with_missing_values = df.columns[df.isnull().any()]

# 결과 출력
print("결측치가 있는 컬럼:", columns_with_missing_values)


# 결측치가 있는 컬럼을 0으로 채우기
df[columns_with_missing_values] = df[columns_with_missing_values].fillna(0)

# 결과 출력
print(df.head())


# 결측치가 있는 컬럼 확인
columns_with_missing_values_after_fillna = df.columns[df.isnull().any()]

# 결과 출력
print("대체 후 결측치가 있는 컬럼:", columns_with_missing_values_after_fillna)


# CSV 파일로 저장
df.to_csv('data/강남구 파일/filled_data.csv', index=False)








import pandas as pd

# CSV 파일 불러오기
file_path = 'data/강남구 파일/filled_data.csv'
df = pd.read_csv(file_path)

# 특정 컬럼 삭제
columns_to_drop = ['아파트_가구_수']
df = df.drop(columns=columns_to_drop)

# 수정된 데이터프레임 확인
print(df.head())

# 수정된 데이터프레임을 새로운 CSV 파일로 저장
df.to_csv('data/강남구 파일/modified_data.csv', index=False)





import matplotlib.pyplot as plt

# 한글 폰트 설정
plt.rcParams['font.family'] = 'Malgun Gothic'











import pandas as pd
import matplotlib.pyplot as plt
from matplotlib import font_manager, rc

# Load the CSV file
file_path = 'data/강남구 파일/modified_data.csv'
df = pd.read_csv(file_path)

# Visualization
plt.figure(figsize=(12, 6))
plt.hist(df['당월_매출_금액'], bins=20, color='skyblue', edgecolor='black')
plt.title('월간 매출 분포')
plt.xlabel('월간 매출 금액')
plt.ylabel('빈도')

# x축 레이블 형식을 일반 숫자로 조정
plt.ticklabel_format(axis='x', style='plain')

# x축 범위를 조정하여 더 명확하게 표시
plt.xlim(0, 30000000000)

plt.show()





import pandas as pd
import matplotlib.pyplot as plt
from matplotlib import font_manager, rc

# Load the CSV file
file_path = 'data/강남구 파일/modified_data.csv'
df = pd.read_csv(file_path)

# Group the data by '상권_코드_명' and calculate the sum of monthly sales
monthly_sales_by_market_name = df.groupby('상권_코드_명')['당월_매출_금액'].sum()

# Visualization
plt.figure(figsize=(20, 6))
monthly_sales_by_market_name.sort_values(ascending=False).plot(kind='bar', color='green')
plt.title('상권별 월간 매출액')
plt.xlabel('상권 명')
plt.ylabel('월간 매출액 (전체)')
plt.xticks(rotation=45, ha='right')

# y 축 단위를 전체로 설정
plt.ticklabel_format(axis='y', style='plain', useOffset=False)
plt.show()





import pandas as pd
import matplotlib.pyplot as plt
import seaborn as sns

# Load the CSV file
file_path = 'data/강남구 파일/modified_data.csv'
df = pd.read_csv(file_path)

# Calculate the average of weekday and weekend sales amounts
average_weekday_sales = df['주중_매출_금액'].mean()
average_weekend_sales = df['주말_매출_금액'].mean()

# Visualization
sns.set(style="whitegrid")
plt.figure(figsize=(8, 5))

# Bar plot for average sales
plt.bar(['Weekday', 'Weekend'], [average_weekday_sales, average_weekend_sales], color=['orange', 'blue'])

plt.xlabel('Day')
plt.ylabel('Average Sales Amount')
plt.title('Average Sales Amount - Weekday vs Weekend')

# Display the average sales amounts on top of the bars
for i, value in enumerate([average_weekday_sales, average_weekend_sales]):
    plt.text(i, value + 0.02 * max(average_weekday_sales, average_weekend_sales), f'{value:,.2f}', ha='center')

plt.show()





import pandas as pd
import matplotlib.pyplot as plt

# Load the CSV file
file_path = 'data/강남구 파일/modified_data.csv'
df = pd.read_csv(file_path)

# Visualization
plt.figure(figsize=(12, 6))

# Days of the week
days = ['월요일', '화요일', '수요일', '목요일', '금요일', '토요일', '일요일']

# English day names for x-axis
english_days = ['Monday', 'Tuesday', 'Wednesday', 'Thursday', 'Friday', 'Saturday', 'Sunday']

# Bar plot for daily sales amounts
sales_amounts = [df[f'{day}_매출_금액'].mean() for day in days]

plt.bar(english_days, sales_amounts, color=['orange', 'blue', 'green', 'red', 'purple', 'brown', 'gray'])

plt.xlabel('Day of the Week')
plt.ylabel('Average Sales Amount')
plt.title('Average Sales Amount - Each Day of the Week')

# Display the average sales amounts on top of the bars
for i, value in enumerate(sales_amounts):
    plt.text(i, value + 0.02 * max(sales_amounts), f'{value:,.2f}', ha='center')

plt.show()





import pandas as pd
import matplotlib.pyplot as plt

# Load the CSV file
file_path = 'data/강남구 파일/modified_data.csv'
df = pd.read_csv(file_path)

# Visualization
plt.figure(figsize=(12, 6))

# Time ranges
time_ranges = ['00~06', '06~11', '11~14', '14~17', '17~21', '21~24']

# English names for x-axis
english_time_ranges = ['00:00-06:00', '06:00-11:00', '11:00-14:00', '14:00-17:00', '17:00-21:00', '21:00-24:00']

# Bar plot for sales amounts in different time ranges
sales_amounts = [df[f'시간대_{time}_매출_금액'].mean() for time in time_ranges]

plt.bar(english_time_ranges, sales_amounts, color=['orange', 'blue', 'green', 'red', 'purple', 'brown'])

plt.xlabel('Time Range of the Day')
plt.ylabel('Average Sales Amount')
plt.title('Average Sales Amount - Each Time Range of the Day')

# Display the average sales amounts on top of the bars
for i, value in enumerate(sales_amounts):
    plt.text(i, value + 0.02 * max(sales_amounts), f'{value:,.2f}', ha='center')

plt.xticks(rotation=45, ha='right')  # Rotate x-axis labels for better readability
plt.show()





import pandas as pd
import matplotlib.pyplot as plt

# Load the CSV file
file_path = 'data/강남구 파일/modified_data.csv'
df = pd.read_csv(file_path)

# Visualization
plt.figure(figsize=(8, 5))

# Gender categories
genders = ['남성', '여성']

# English names for x-axis
english_genders = ['Male', 'Female']

# Bar plot for sales amounts by gender
sales_amounts = [df[f'{gender}_매출_금액'].mean() for gender in genders]

plt.bar(english_genders, sales_amounts, color=['blue', 'pink'])

plt.xlabel('Gender')
plt.ylabel('Average Sales Amount')
plt.title('Average Sales Amount - Male vs Female')

# Display the average sales amounts on top of the bars
for i, value in enumerate(sales_amounts):
    plt.text(i, value + 0.02 * max(sales_amounts), f'{value:,.2f}', ha='center')

plt.show()





import pandas as pd
import matplotlib.pyplot as plt

# Load the CSV file
file_path = 'data/강남구 파일/modified_data.csv'
df = pd.read_csv(file_path)

# Visualization
plt.figure(figsize=(10, 6))

# Age groups
age_groups = ['10', '20', '30', '40', '50', '60_이상']

# English names for x-axis
english_age_groups = ['10s', '20s', '30s', '40s', '50s', '60s+']

# Bar plot for sales amounts by age group
sales_amounts = [df[f'연령대_{age}_매출_금액'].mean() for age in age_groups]

plt.bar(english_age_groups, sales_amounts, color=['purple', 'blue', 'green', 'orange', 'red', 'brown'])

plt.xlabel('Age Group')
plt.ylabel('Average Sales Amount')
plt.title('Average Sales Amount - Each Age Group')

# Display the average sales amounts on top of the bars
for i, value in enumerate(sales_amounts):
    plt.text(i, value + 0.02 * max(sales_amounts), f'{value:,.2f}', ha='center')

plt.show()













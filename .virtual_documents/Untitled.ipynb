import pandas as pd

# 파일 경로 리스트 지정
file_paths = [
    'data/(길단위인구-상권).csv',
    'data/(상주인구-상권).csv',
    'data/(직장인구-상권).csv',
    'data/(소득소비-상권).csv',
    'data/(집객시설-상권).csv'
]

# 각 파일을 불러와서 데이터프레임으로 저장
dataframes = [pd.read_csv(file, encoding='cp949') for file in file_paths]

# 데이터프레임 확인
for i, df in enumerate(dataframes):
    print(f"데이터프레임 {i + 1}:")
    print(df.head())
    print("\n")


import pandas as pd

# 파일 경로 리스트 지정
file_paths = [
    'data/(길단위인구-상권).csv',
    'data/(상주인구-상권).csv',
    'data/(소득소비-상권).csv',
    'data/(직장인구-상권).csv',
    'data/(집객시설-상권).csv'
]

# 각 파일을 불러와서 데이터프레임으로 저장
dataframes = [pd.read_csv(file, encoding='cp949') for file in file_paths]

# 데이터프레임에서 기준_년분기_코드가 '2022'인 행만 추출
dataframes_2022 = [df[df['기준_년분기_코드'].astype(str).str.contains('2022')] for df in dataframes]

# 추출된 데이터프레임 확인
for i, df_2022 in enumerate(dataframes_2022):
    print(f"2022년 데이터프레임 {i + 1}:")
    print(df_2022.head())
    print("\n")


for i, df_2022 in enumerate(dataframes_2022):
    # CSV 파일로 저장
    output_file_path = f'2022년_데이터_{i + 1}.csv'
    df_2022.to_csv(output_file_path, index=False)

    print(f"'{output_file_path}' 파일로 저장 완료")

# 파일명 변경 & 파일 위치 이동


# '서비스_업종_코드_명'이 '편의점'인 행만 추출
convenience_store_data = data[data['서비스_업종_코드_명'] == '편의점']

# 추출된 데이터프레임을 CSV 파일로 저장
output_file_path = 'data/(추정매출-상권)_2022_편의점.csv'
convenience_store_data.to_csv(output_file_path, index=False, encoding='cp949')

print(f"Data with '서비스_업종_코드_명' as '편의점' has been saved to {output_file_path}.")


import pandas as pd

# 파일 경로 리스트 지정
file_paths = [
    'data/(길단위인구-상권)_2022.csv',
    'data/(상주인구-상권)_2022.csv',
    'data/(소득소비-상권)_2022.csv',
    'data/(직장인구-상권)_2022.csv',
    'data/(집객시설-상권)_2022.csv',
]

# 각 파일을 불러와서 데이터프레임으로 저장
dataframes = [pd.read_csv(file, encoding='utf-8') for file in file_paths]

# 결측치 확인
for i, df in enumerate(dataframes):
    print(f"결측치 확인 - 데이터프레임 {i + 1}:")
    print(df.isnull().sum())
    print("\n")


import pandas as pd
import chardet

# 파일 인코딩 확인 함수
def get_encoding(file_path):
    with open(file_path, 'rb') as f:
        result = chardet.detect(f.read())
    return result['encoding']

# CSV 파일 불러오기 (인코딩 자동 감지)
file_path1 = 'data/(추정매출-상권)_2022_편의점.csv'
file_path2 = 'data/(강남구-상권).csv'

file_encoding1 = get_encoding(file_path1)
file_encoding2 = get_encoding(file_path2)

data1 = pd.read_csv(file_path1, encoding=file_encoding1)
data2 = pd.read_csv(file_path2, encoding=file_encoding2)

# 두 데이터프레임을 기준 열들을 사용하여 merge
merged_data = pd.merge(data1, data2, on=['상권_구분_코드', '상권_구분_코드_명', '상권_코드', '상권_코드_명'], how='inner')

# 결과 데이터 확인
print(merged_data.head())

# 중복된 행 확인
duplicates = merged_data[merged_data.duplicated()]

# 중복된 행 출력
print("중복된 행 개수:", len(duplicates))
print("중복된 행 데이터:")
print(duplicates)

# 결과 데이터 저장
output_path = 'data/merged_data.csv'
merged_data.to_csv(output_path, index=False)


import pandas as pd
import chardet

# 파일 인코딩 확인 함수
def get_encoding(file_path):
    with open(file_path, 'rb') as f:
        result = chardet.detect(f.read())
    return result['encoding']

# CSV 파일 불러오기 (인코딩 자동 감지)
file_path1 = 'data/merged_data.csv'
file_path2 = 'data/(길단위인구-상권)_2022.csv'

file_encoding1 = get_encoding(file_path1)
file_encoding2 = get_encoding(file_path2)

data1 = pd.read_csv(file_path1, encoding=file_encoding1)
data2 = pd.read_csv(file_path2, encoding=file_encoding2)

# 두 데이터프레임을 기준 열들을 사용하여 merge
merged_data = pd.merge(data1, data2, on=['기준_년분기_코드', '상권_구분_코드', '상권_구분_코드_명', '상권_코드', '상권_코드_명'], how='inner')

# 결과 데이터 확인
print(merged_data.head())

# 중복된 행 확인
duplicates = merged_data[merged_data.duplicated()]

# 중복된 행 출력
print("중복된 행 개수:", len(duplicates))
print("중복된 행 데이터:")
print(duplicates)

# 결과 데이터 저장
output_path = 'data/merged_data2_data.csv'
merged_data.to_csv(output_path, index=False)


import pandas as pd
import chardet

# 파일 인코딩 확인 함수
def get_encoding(file_path):
    with open(file_path, 'rb') as f:
        result = chardet.detect(f.read())
    return result['encoding']

# CSV 파일 불러오기 (인코딩 자동 감지)
file_path1 = 'data/merged_data2_data.csv'
file_path2 = 'data/(상주인구-상권)_2022.csv'

file_encoding1 = get_encoding(file_path1)
file_encoding2 = get_encoding(file_path2)

data1 = pd.read_csv(file_path1, encoding=file_encoding1)
data2 = pd.read_csv(file_path2, encoding=file_encoding2)

# 두 데이터프레임을 기준 열들을 사용하여 merge
merged_data = pd.merge(data1, data2, on=['기준_년분기_코드', '상권_구분_코드', '상권_구분_코드_명', '상권_코드', '상권_코드_명'], how='inner')

# 결과 데이터 확인
print(merged_data.head())

# 중복된 행 확인
duplicates = merged_data[merged_data.duplicated()]

# 중복된 행 출력
print("중복된 행 개수:", len(duplicates))
print("중복된 행 데이터:")
print(duplicates)

# 결과 데이터 저장
output_path = 'data/merged_data3.csv'
merged_data.to_csv(output_path, index=False)


import pandas as pd
import chardet

# 파일 인코딩 확인 함수
def get_encoding(file_path):
    with open(file_path, 'rb') as f:
        result = chardet.detect(f.read())
    return result['encoding']

# CSV 파일 불러오기 (인코딩 자동 감지)
file_path1 = 'data/merged_data3.csv'
file_path2 = 'data/(소득소비-상권)_2022.csv'

file_encoding1 = get_encoding(file_path1)
file_encoding2 = get_encoding(file_path2)

data1 = pd.read_csv(file_path1, encoding=file_encoding1)
data2 = pd.read_csv(file_path2, encoding=file_encoding2)

# 두 데이터프레임을 기준 열들을 사용하여 merge
merged_data = pd.merge(data1, data2, on=['기준_년분기_코드', '상권_구분_코드', '상권_구분_코드_명', '상권_코드', '상권_코드_명'], how='inner')

# 결과 데이터 확인
print(merged_data.head())

# 중복된 행 확인
duplicates = merged_data[merged_data.duplicated()]

# 중복된 행 출력
print("중복된 행 개수:", len(duplicates))
print("중복된 행 데이터:")
print(duplicates)

# 결과 데이터 저장
output_path = 'data/merged_data4.csv'
merged_data.to_csv(output_path, index=False)


import pandas as pd
import chardet

# 파일 인코딩 확인 함수
def get_encoding(file_path):
    with open(file_path, 'rb') as f:
        result = chardet.detect(f.read())
    return result['encoding']

# CSV 파일 불러오기 (인코딩 자동 감지)
file_path1 = 'data/merged_data4.csv'
file_path2 = 'data/(직장인구-상권)_2022.csv'

file_encoding1 = get_encoding(file_path1)
file_encoding2 = get_encoding(file_path2)

data1 = pd.read_csv(file_path1, encoding=file_encoding1)
data2 = pd.read_csv(file_path2, encoding=file_encoding2)

# 두 데이터프레임을 기준 열들을 사용하여 merge
merged_data = pd.merge(data1, data2, on=['기준_년분기_코드', '상권_구분_코드', '상권_구분_코드_명', '상권_코드', '상권_코드_명'], how='inner')

# 결과 데이터 확인
print(merged_data.head())

# 중복된 행 확인
duplicates = merged_data[merged_data.duplicated()]

# 중복된 행 출력
print("중복된 행 개수:", len(duplicates))
print("중복된 행 데이터:")
print(duplicates)

# 결과 데이터 저장
output_path = 'data/merged_data5.csv'
merged_data.to_csv(output_path, index=False)


import pandas as pd
import chardet

# 파일 인코딩 확인 함수
def get_encoding(file_path):
    with open(file_path, 'rb') as f:
        result = chardet.detect(f.read())
    return result['encoding']

# CSV 파일 불러오기 (인코딩 자동 감지)
file_path1 = 'data/merged_data5.csv'
file_path2 = 'data/(집객시설-상권)_2022.csv'

file_encoding1 = get_encoding(file_path1)
file_encoding2 = get_encoding(file_path2)

data1 = pd.read_csv(file_path1, encoding=file_encoding1)
data2 = pd.read_csv(file_path2, encoding=file_encoding2)

# 두 데이터프레임을 기준 열들을 사용하여 merge
merged_data = pd.merge(data1, data2, on=['기준_년분기_코드', '상권_구분_코드', '상권_구분_코드_명', '상권_코드', '상권_코드_명'], how='inner')

# 결과 데이터 확인
print(merged_data.head())

# 중복된 행 확인
duplicates = merged_data[merged_data.duplicated()]

# 중복된 행 출력
print("중복된 행 개수:", len(duplicates))
print("중복된 행 데이터:")
print(duplicates)

# 결과 데이터 저장
output_path = 'data/merged_final_data.csv'
merged_data.to_csv(output_path, index=False)


# 행의 갯수가 241 => 233으로 줄은 것을 확인할 수 있음


import pandas as pd

# 파일 경로
file_path_data5 = 'data/merged_data5.csv'
file_path_final_data = 'data/merged_final_data.csv'

# CSV 파일 불러오기
data5 = pd.read_csv(file_path_data5)
final_data = pd.read_csv(file_path_final_data)

# 행 개수 비교
num_rows_data5 = len(data5)
num_rows_final_data = len(final_data)

# 결과 출력
print(f"merged_data5.csv 행 개수: {num_rows_data5}")
print(f"merged_final_data.csv 행 개수: {num_rows_final_data}")
print(f"행 차이: {num_rows_data5 - num_rows_final_data}")


import pandas as pd

# 두 데이터프레임 간의 차이 확인
diff_df = pd.concat([data5, final_data]).drop_duplicates(keep=False)

# 결과 출력
print("두 데이터프레임 간의 차이:")
print(diff_df)




import pandas as pd
import geopandas as gpd
import matplotlib.pyplot as plt
import matplotlib as mpl
from shapely.geometry import Point
from shapely.geometry import Polygon
from shapely import wkt

# 시각화 색상 정하는 모듈
from matplotlib.colors import ListedColormap


# 시각화 한글폰트 적용
import matplotlib.font_manager as fm

font_path = 'C:/Windows/Fonts/gulim.ttc' # 여기 글씨체 경로를 입력한다.
font = fm.FontProperties(fname=font_path).get_name()
mpl.rc('font', family=font)





gangnam_gpd = gpd.read_file('geo_json/gangnam_emd_2.geojson')
gangnam_gpd


gangnam_gpd = gangnam_gpd.set_crs(epsg='5178', allow_override=True)
gangnam_gpd = gangnam_gpd.to_crs(epsg='4326')
gangnam_gpd.head()


gangnam_gpd['center_point'] = gangnam_gpd['geometry'].geometry.centroid
gangnam_gpd['geometry'] = gangnam_gpd['geometry'].to_crs(epsg='4326')
gangnam_gpd['center_point'] = gangnam_gpd['center_point'].to_crs(epsg='4326')
gangnam_gpd['경도'] = gangnam_gpd['center_point'].map(lambda x: x.xy[0][0])
gangnam_gpd['위도'] = gangnam_gpd['center_point'].map(lambda x: x.xy[1][0])
gangnam_gpd.head()


# 컬럼명 변환
gangnam_gpd = gangnam_gpd.rename(columns={'EMD_CD':'행정동_코드', 'EMD_KOR_NM':'행정동_코드_명'})
gangnam_gpd


fig, ax = plt.subplots(figsize=(10, 6))
gangnam_gpd.plot(column='행정동_코드_명', ax=ax)
plt.axis('off')
plt.show()


fig, ax = plt.subplots(figsize=(10, 6))
gangnam_gpd.plot(ax=ax, color='white', edgecolor='black')
gangnam_gpd['center_point'].plot(marker='o', color='red', markersize=5, ax=ax)
plt.show()





com_df = pd.read_csv('data/Chk_df_4.csv')
com_df = com_df.drop(columns=['Unnamed: 0'])
com_df


gncom_df = com_df.loc[com_df['자치구_코드_명']=='강남구'].reset_index(drop=True)
gncom_df





# 상권코드별 좌표값 unique 찾기
gncom_df.loc[gncom_df['상권_코드']==3110968] # 데이터 확인 결과, 상권코드 하나에 좌표 하나.


# 상권코드 갯수 찾기
gncom_df['상권_코드'].unique()


# 좌표값 갯수 찾기
gncom_df['와이좌표_값'].unique() # 좌표 갯수가 상권코드 갯수와 동일하다는 점에서, 확실히 상권코드 하나에 좌표 하나가 대응됨을 알 수 있다.


# 자치구 코드, 코드명 삭제
gncom_df = gncom_df.drop(columns=['자치구_코드', '자치구_코드_명'])
gncom_df


# 좌표 컬럼명 변경
gncom_df = gncom_df.rename(columns={'엑스좌표_값':'상권_엑스좌표', '와이좌표_값':'상권_와이좌표'})
gncom_df





# GeoDataFrame 만들기
gncom_geometry = [Point(xy) for xy in zip(gncom_df['상권_엑스좌표'], gncom_df['상권_와이좌표'])]
gncom_gdf = gpd.GeoDataFrame(gncom_df, geometry=gncom_geometry, crs='EPSG:5181')
gncom_gdf





gncom_gdf['geometry'] = gncom_gdf['geometry'].to_crs(epsg='4326')
gncom_gdf





# 시각화1

fig, ax = plt.subplots(figsize=(10, 6))
gangnam_gpd.plot(ax=ax, color='white', edgecolor='black')
gncom_gdf.plot(column='상권_코드_명', ax=ax)
plt.axis('off')
plt.show()


# 시각화2
fig, ax = plt.subplots(figsize=(10, 6))
gangnam_gpd.plot(ax=ax, color='white', edgecolor='black')
gncom_gdf.plot(column='상권_코드_명', ax=ax, marker='o', color='red', markersize=10)
plt.axis('off')
plt.show()





# 전처리 된 데이터 불러오기
nf_reordered = pd.read_csv('data2/nf_reordered_forEDA.csv')
nf_reordered.head()


nf_reordered.dtypes


# 주요 데이터형 바꾸기 : 범주형 데이터가 float64인 경우, int64로 변경
nf_reordered['행정동_코드'] = nf_reordered['행정동_코드'].astype('int64')
nf_reordered.dtypes


# gncom_gdf에서 nf_reordered와 불필요하게 겹치는 컬럼 제거
# '상권_구분_코드', '상권_구분_코드_명', '행정동_코드_명'
gncom_gdf = gncom_gdf.drop(columns=['상권_구분_코드', '상권_구분_코드_명', '행정동_코드_명'])
gncom_gdf





# 데이터 병합
merged_gdf = gncom_gdf.merge(nf_reordered, on=['상권_코드', '행정동_코드'])
merged_gdf


merged_gdf['행정동_코드']


merged_gdf.loc[(merged_gdf['상권_코드']==3110971)&(merged_gdf['기준_년']==2023), ['기준_년', '기준_분기', '시간대', '시간대_매출금액']]


example_1 = merged_gdf.loc[(merged_gdf['기준_년']==2023)&(merged_gdf['기준_분기']==1)&(merged_gdf['시간대']==1)].reset_index(drop=True)
example_1


# 예시로 사용할 데이터셋 슬라이싱
example_2 = merged_gdf.loc[(merged_gdf['기준_년']==2023)&(merged_gdf['기준_분기']==1)&(merged_gdf['시간대']==2)].reset_index(drop=True)
example_3 = merged_gdf.loc[(merged_gdf['기준_년']==2023)&(merged_gdf['기준_분기']==1)&(merged_gdf['시간대']==3)].reset_index(drop=True)
example_4 = merged_gdf.loc[(merged_gdf['기준_년']==2023)&(merged_gdf['기준_분기']==1)&(merged_gdf['시간대']==4)].reset_index(drop=True)
example_5 = merged_gdf.loc[(merged_gdf['기준_년']==2023)&(merged_gdf['기준_분기']==1)&(merged_gdf['시간대']==5)].reset_index(drop=True)
example_6 = merged_gdf.loc[(merged_gdf['기준_년']==2023)&(merged_gdf['기준_분기']==1)&(merged_gdf['시간대']==6)].reset_index(drop=True)





# 시각화
# 2003년 1분기 시간대별 시각화

fig, ax = plt.subplots(nrows=3, ncols=2, figsize=(15, 15))

# 시간대 : 1
ax[0, 0].set_title('시간대1')
gangnam_gpd.plot(ax=ax[0, 0], color='white', edgecolor='black')
example_1.plot(column='시간대_매출금액', ax=ax[0, 0], marker='o', markersize=30, cmap='coolwarm', legend=True)
ax[0, 0].axis('off')

# 시간대 : 2
ax[0, 1].set_title('시간대2')
gangnam_gpd.plot(ax=ax[0, 1], color='white', edgecolor='black')
example_2.plot(column='시간대_매출금액', ax=ax[0, 1], marker='o', markersize=30, cmap='coolwarm', legend=True)
ax[0, 1].axis('off')

# 시간대 : 3
ax[1, 0].set_title('시간대3')
gangnam_gpd.plot(ax=ax[1, 0], color='white', edgecolor='black')
example_3.plot(column='시간대_매출금액', ax=ax[1, 0], marker='o', markersize=30, cmap='coolwarm', legend=True)
ax[1, 0].axis('off')

# 시간대 : 4
ax[1, 1].set_title('시간대4')
gangnam_gpd.plot(ax=ax[1, 1], color='white', edgecolor='black')
example_4.plot(column='시간대_매출금액', ax=ax[1, 1], marker='o', markersize=30, cmap='coolwarm', legend=True)
ax[1, 1].axis('off')

# 시간대 : 5
ax[2, 0].set_title('시간대5')
gangnam_gpd.plot(ax=ax[2, 0], color='white', edgecolor='black')
example_5.plot(column='시간대_매출금액', ax=ax[2, 0], marker='o', markersize=30, cmap='coolwarm', legend=True)
ax[2, 0].axis('off')

# 시간대 : 6
ax[2, 1].set_title('시간대6')
gangnam_gpd.plot(ax=ax[2, 1], color='white', edgecolor='black')
example_6.plot(column='시간대_매출금액', ax=ax[2, 1], marker='o', markersize=30, cmap='coolwarm', legend=True)
ax[2, 1].axis('off')

plt.show()


example_3.loc[example_1[['시간대_매출금액']].idxmax()]


example_3.nlargest(5, '시간대_매출금액')








gncom_df = pd.read_csv('data2/영역-상권.csv')
gncom_df


# 컬럼명 바꾸기
gncom_df = gncom_df.rename(columns={'TRDAR_SE_C':'상권_구분_코드', 'TRDAR_SE_1':'상권_구분_코드_명', 'TRDAR_CD':'상권_코드', 'TRDAR_CD_N':'상권_코드_명', 'ADSTRD_CD':'행정동_코드', 'ADSTRD_CD_':'행정동_코드_명'})
gncom_df


# 강남구 데이터만 추출
gncom_df = gncom_df.loc[gncom_df['SIGNGU_CD_']=='강남구'].reset_index(drop=True)
gncom_df.head()


# 불필요한 컬럼 제거
gncom_df = gncom_df.drop(columns=['XCNTS_VALU', 'YDNTS_VALU', 'SIGNGU_CD', 'SIGNGU_CD_', 'RELM_AR', '상권_구분_코드', '상권_구분_코드_명'])
gncom_df


# polygon변환
gncom_df['geometry'] = gncom_df['geometry'].apply(wkt.loads)

# geo data frame으로 변환
gncom_gdf = gpd.GeoDataFrame(gncom_df, geometry='geometry', crs='EPSG:5181')
gncom_gdf





gncom_gdf['geometry'] = gncom_gdf['geometry'].to_crs(epsg='4326')
gncom_gdf


# 상권별 시각화

fig, ax = plt.subplots(figsize=(10, 6))
gangnam_gpd.plot(ax=ax, color='white', edgecolor='black')
gncom_gdf.plot(column='상권_코드_명', ax=ax)
plt.axis('off')
plt.show()





# 데이터 병합
merged_gdf = gncom_gdf.merge(nf_reordered, on=['상권_코드', '행정동_코드'])
merged_gdf





# GeoDataFrame을 GeoJSON 파일로 저장
# merged_gdf.to_file('geo_json/gn_gdf.geojson', driver='GeoJSON')





# 예시로 사용할 데이터셋 슬라이싱
example_1 = merged_gdf.loc[(merged_gdf['기준_년']==2023)&(merged_gdf['기준_분기']==1)&(merged_gdf['시간대']==1)].reset_index(drop=True)
example_2 = merged_gdf.loc[(merged_gdf['기준_년']==2023)&(merged_gdf['기준_분기']==1)&(merged_gdf['시간대']==2)].reset_index(drop=True)
example_3 = merged_gdf.loc[(merged_gdf['기준_년']==2023)&(merged_gdf['기준_분기']==1)&(merged_gdf['시간대']==3)].reset_index(drop=True)
example_4 = merged_gdf.loc[(merged_gdf['기준_년']==2023)&(merged_gdf['기준_분기']==1)&(merged_gdf['시간대']==4)].reset_index(drop=True)
example_5 = merged_gdf.loc[(merged_gdf['기준_년']==2023)&(merged_gdf['기준_분기']==1)&(merged_gdf['시간대']==5)].reset_index(drop=True)
example_6 = merged_gdf.loc[(merged_gdf['기준_년']==2023)&(merged_gdf['기준_분기']==1)&(merged_gdf['시간대']==6)].reset_index(drop=True)


# 시각화
# 2003년 1분기 시간대별 시각화

fig, ax = plt.subplots(nrows=3, ncols=2, figsize=(15, 15))

# 시간대 : 1
ax[0, 0].set_title('시간대1')
gangnam_gpd.plot(ax=ax[0, 0], color='white', edgecolor='black')
example_1.plot(column='시간대_매출금액', ax=ax[0, 0], marker='o', markersize=30, cmap='coolwarm', legend=True)
ax[0, 0].axis('off')

# 시간대 : 2
ax[0, 1].set_title('시간대2')
gangnam_gpd.plot(ax=ax[0, 1], color='white', edgecolor='black')
example_2.plot(column='시간대_매출금액', ax=ax[0, 1], marker='o', markersize=30, cmap='coolwarm', legend=True)
ax[0, 1].axis('off')

# 시간대 : 3
ax[1, 0].set_title('시간대3')
gangnam_gpd.plot(ax=ax[1, 0], color='white', edgecolor='black')
example_3.plot(column='시간대_매출금액', ax=ax[1, 0], marker='o', markersize=30, cmap='coolwarm', legend=True)
ax[1, 0].axis('off')

# 시간대 : 4
ax[1, 1].set_title('시간대4')
gangnam_gpd.plot(ax=ax[1, 1], color='white', edgecolor='black')
example_4.plot(column='시간대_매출금액', ax=ax[1, 1], marker='o', markersize=30, cmap='coolwarm', legend=True)
ax[1, 1].axis('off')

# 시간대 : 5
ax[2, 0].set_title('시간대5')
gangnam_gpd.plot(ax=ax[2, 0], color='white', edgecolor='black')
example_5.plot(column='시간대_매출금액', ax=ax[2, 0], marker='o', markersize=30, cmap='coolwarm', legend=True)
ax[2, 0].axis('off')

# 시간대 : 6
ax[2, 1].set_title('시간대6')
gangnam_gpd.plot(ax=ax[2, 1], color='white', edgecolor='black')
example_6.plot(column='시간대_매출금액', ax=ax[2, 1], marker='o', markersize=30, cmap='coolwarm', legend=True)
ax[2, 1].axis('off')

plt.show()


fig, ax = plt.subplots()
gangnam_gpd.plot(ax=ax, color='white', edgecolor='black')

ax.set_title('최대 매출 5개 상권')

# example_3.loc[example_1[['시간대_매출금액']].idxmax()].plot(column='시간대_매출금액', ax=ax, marker='o', markersize=30, cmap='coolwarm', legend=True)

# 색상 정하기
# colors = ['#FFA500', '#FF6347']  # 오렌지색에서 빨간색까지
# cmap = ListedColormap(colors)

# example_3.nlargest(5, '시간대_매출금액').plot(column='시간대_매출금액', ax=ax, marker='o', markersize=30, cmap=cmap, legend=True)

example_3.nlargest(5, '시간대_매출금액').plot(column='시간대_매출금액', ax=ax, marker='o', markersize=30, cmap='Reds', legend=True)
ax.axis('off')

plt.show()

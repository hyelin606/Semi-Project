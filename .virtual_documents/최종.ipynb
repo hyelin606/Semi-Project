


import pandas as pd

# CSV 파일 불러오기
file_path = 'data/final_reordered.csv'
df = pd.read_csv(file_path)

# 데이터프레임 확인
df.head(1)


# 컬럼 확인
print(df.columns)





import matplotlib.pyplot as plt

# 한글 폰트 설정
plt.rcParams['font.family'] = 'Malgun Gothic'








import matplotlib.pyplot as plt

# 히스토그램 시각화
plt.figure(figsize=(10, 6))
plt.hist(df['시간대_매출금액'], bins=30, color='skyblue', edgecolor='black')
plt.title('시간대별 매출 금액 분포')
plt.xlabel('시간대_매출금액')
plt.ylabel('빈도')
plt.ticklabel_format(style='plain', axis='x')  # 과학적 표기법 비활성화
plt.show()








import matplotlib.pyplot as plt

# Count the occurrences of each category in '기준_년' column
year_counts = df['기준_년'].value_counts()

# Plot the distribution
plt.figure(figsize=(10, 6))
bars = year_counts.sort_index().plot(kind='bar', color='skyblue')  # Sort by index (year)

# Add text annotations
for i, count in enumerate(year_counts.sort_index()):
    plt.text(i, count + 10, str(count), ha='center')

plt.title('기준 년도 분포')
plt.xlabel('년도')
plt.ylabel('빈도')
plt.xticks(rotation=45, ha='right')
plt.tight_layout()
plt.show()





import matplotlib.pyplot as plt

# Count the occurrences of each category in '기준_분기' column
quarter_counts = df['기준_분기'].value_counts()

# Plot the distribution
plt.figure(figsize=(8, 6))
bars = quarter_counts.sort_index().plot(kind='bar', color='skyblue')  # Sort by index (quarter)

# Add text annotations
for i, count in enumerate(quarter_counts.sort_index()):
    plt.text(i, count + 10, str(count), ha='center')

plt.title('기준 분기별 분포')
plt.xlabel('분기')
plt.ylabel('빈도')
plt.xticks(rotation=0, ha='center')
plt.tight_layout()
plt.show()





import matplotlib.pyplot as plt

# Count the occurrences of each category in '시간대' column
time_counts = df['시간대'].value_counts()

# Plot the distribution
plt.figure(figsize=(10, 6))
bars = time_counts.sort_index().plot(kind='bar', color='skyblue')  # Sort by index

# Add text annotations
for i, count in enumerate(time_counts.sort_index()):
    plt.text(i, count + 10, str(count), ha='center')

plt.title('시간대 분포')
plt.xlabel('시간대')
plt.ylabel('빈도')
plt.xticks(rotation=0, ha='center')
plt.tight_layout()
plt.show()





import matplotlib.pyplot as plt
import matplotlib.font_manager as fm

# Count the occurrences of each category in '상권_구분_코드_명' column
category_counts = df['상권_구분_코드_명'].value_counts()

# Plot the distribution
plt.figure(figsize=(10, 6))
bars = category_counts.sort_index().plot(kind='bar', color='skyblue')  # Sort by index

# Add text annotations
for i, count in enumerate(category_counts.sort_index()):
    plt.text(i, count + 10, str(count), ha='center')

plt.title('상권 구분 코드명 분포')
plt.xlabel('카테고리')
plt.ylabel('빈도')
plt.xticks(rotation=45, ha='right')
plt.tight_layout()
plt.show()





import matplotlib.pyplot as plt
import matplotlib.font_manager as fm

# Count the occurrences of each category in '상권_코드_명' column
category_counts = df['상권_코드_명'].value_counts()

# Plot the distribution
plt.figure(figsize=(50, 10))
bars = category_counts.sort_index().plot(kind='bar', color='skyblue')  # Sort by index

# Add text annotations
for i, count in enumerate(category_counts.sort_index()):
    plt.text(i, count + 10, str(count), ha='center')

plt.title('상권 코드명 분포')
plt.xlabel('카테고리')
plt.ylabel('빈도')
plt.xticks(rotation=45, ha='right')
plt.tight_layout()
plt.show()





import matplotlib.pyplot as plt
import matplotlib.font_manager as fm

# Count the occurrences of each category in '행정동_코드_명' column
category_counts = df['행정동_코드_명'].value_counts()

# Plot the distribution
plt.figure(figsize=(10, 6))
bars = category_counts.sort_index().plot(kind='bar', color='skyblue')  # Sort by index

# Add text annotations
for i, count in enumerate(category_counts.sort_index()):
    plt.text(i, count + 10, str(count), ha='center')

plt.title('행정동 코드명 분포')
plt.xlabel('행정동')
plt.ylabel('빈도')
plt.xticks(rotation=45, ha='right')
plt.tight_layout()
plt.show()





import matplotlib.pyplot as plt

# 소득 구간 코드에 대한 빈도 계산
income_counts = df['소득_구간_코드'].value_counts().sort_index()

# 소득 구간 코드에 대한 히스토그램 시각화
plt.figure(figsize=(10, 6))
bars = income_counts.plot(kind='bar', color='skyblue', edgecolor='black')

# 막대 위에 텍스트로 값 표시
for i, count in enumerate(income_counts):
    plt.text(i, count + 10, str(count), ha='center')

plt.title('소득 구간 코드별 빈도')
plt.xlabel('소득 구간 코드')
plt.ylabel('빈도')
plt.xticks(rotation=45, ha='right')
plt.tight_layout()
plt.show()








import seaborn as sns
import matplotlib.pyplot as plt
import matplotlib.font_manager as fm

# Plot the distribution
plt.figure(figsize=(10, 6))
sns.histplot(df['시간대_유동인구_수'], bins=20, color='skyblue', edgecolor='black', kde=True)

plt.title('시간대 유동인구 수 분포')
plt.xlabel('유동인구 수')
plt.ylabel('빈도')
plt.tight_layout()
plt.show()





import seaborn as sns
import matplotlib.pyplot as plt
import matplotlib.font_manager as fm

# 히스토그램과 KDE 선을 함께 그리기
plt.figure(figsize=(10, 6))
sns.histplot(df['평일_유동인구_수_평균'], bins=20, color='skyblue', edgecolor='black', kde=True)

plt.title('평일 유동인구 수 평균 분포')
plt.xlabel('유동인구 수')
plt.ylabel('빈도')
plt.tight_layout()
plt.show()





import seaborn as sns
import matplotlib.pyplot as plt
import matplotlib.font_manager as fm

# 히스토그램과 KDE 선을 함께 그리기
plt.figure(figsize=(10, 6))
sns.histplot(df['총_직장_인구_수'], bins=20, color='skyblue', edgecolor='black', kde=True)

plt.title('총 직장 인구 수 분포')
plt.xlabel('직장 인구 수')
plt.ylabel('빈도')
plt.tight_layout()
plt.show()





import seaborn as sns
import matplotlib.pyplot as plt
import matplotlib.font_manager as fm

# 히스토그램과 KDE 선을 함께 그리기
plt.figure(figsize=(10, 6))
sns.histplot(df['총_상주인구_수'], bins=20, color='skyblue', edgecolor='black', kde=True)

plt.title('총 상주 인구 수 분포')
plt.xlabel('상주 인구 수')
plt.ylabel('빈도')
plt.tight_layout()
plt.show()





import seaborn as sns
import matplotlib.pyplot as plt
import matplotlib.font_manager as fm

# 히스토그램과 KDE 선을 함께 그리기
plt.figure(figsize=(10, 6))
sns.histplot(df['총_가구_수'], bins=20, color='skyblue', edgecolor='black', kde=True)

plt.title('총 가구 수 분포')
plt.xlabel('가구 수')
plt.ylabel('빈도')
plt.tight_layout()
plt.show()





import seaborn as sns
import matplotlib.pyplot as plt

# 히스토그램과 KDE 선을 함께 그리기
plt.figure(figsize=(10, 6))
sns.histplot(df['집객시설_수'], bins=20, color='skyblue', edgecolor='black', kde=True)

plt.title('집객시설 수 분포')
plt.xlabel('집객시설 수')
plt.ylabel('빈도')
plt.show()





import seaborn as sns
import matplotlib.pyplot as plt

# 히스토그램과 KDE 선을 함께 그리기
plt.figure(figsize=(10, 6))
sns.histplot(df['월_평균_소득_금액'], bins=20, color='skyblue', edgecolor='black', kde=True)

plt.title('월 평균 소득 금액 분포')
plt.xlabel('월 평균 소득 금액')
plt.ylabel('빈도')
plt.show()





import seaborn as sns
import matplotlib.pyplot as plt

# 히스토그램과 KDE 선을 함께 그리기
plt.figure(figsize=(10, 6))
sns.histplot(df['지출_총금액'], bins=20, color='skyblue', edgecolor='black', kde=True)

plt.title('지출 총금액 분포')
plt.xlabel('지출 총금액')
plt.ylabel('빈도')

# 과학적 표기법 비활성화
plt.ticklabel_format(style='plain', axis='x')

plt.show()





import pandas as pd

# CSV 파일 불러오기
file_path = 'data/final_reordered.csv'
df = pd.read_csv(file_path)

# 데이터프레임 확인
df.head(1)


# 컬럼 확인
print(df.columns)





# 수치형 데이터만을 가진 데이터프레임 생성
numeric_df = df.select_dtypes(include=['float64', 'int64'])
numeric_df





from scipy.stats import levene

# 등분산 검정 수행
columns = ['기준_년', '기준_분기', '상권_코드', '자치구_코드', '행정동_코드', '시간대_유동인구_수', '평일_유동인구_수_평균', '주말_유동인구_수_평균', '총_직장_인구_수', '총_상주인구_수', '총_가구_수', '집객시설_수', '월_평균_소득_금액', '소득_구간_코드', '지출_총금액']

for col in columns:
    statistic, p_value = levene(df['시간대_매출금액'], df[col])
    
    # 결과 출력
    print("Column:", col)
    print("Statistic:", statistic)
    print("P-value:", p_value)

    # 등분산성 확인
    if p_value > 0.05:
        print("등분산성이 확인되었습니다.")
    else:
        print("등분산성이 확인되지 않았습니다.")
    print()








from scipy.stats import f_oneway

# 각 컬럼과 '시간대_매출금액' 간 Welch의 ANOVA 수행
for col in columns:
    statistic, p_value = f_oneway(df['시간대_매출금액'], df[col])
    
    # 결과 출력
    print("Column:", col)
    print("Statistic:", statistic)
    print("P-value:", p_value)

    # 유의수준 0.05에서 검정
    alpha = 0.05
    if p_value < alpha:
        print("귀무가설을 기각합니다. 두 그룹의 평균은 다릅니다.")
    else:
        print("귀무가설을 기각하지 못합니다. 두 그룹 간 평균에는 차이가 없습니다.")
    print()


import pandas as pd
import seaborn as sns
import matplotlib.pyplot as plt

# CSV 파일 불러오기
file_path = 'data/final_reordered.csv'
df = pd.read_csv(file_path)

# 수치형 변수들의 상관관계 행렬 계산
numeric_columns = df.select_dtypes(include=['int64', 'float64']).columns
correlation_matrix = df[numeric_columns].corr()

# 상관관계 히트맵 생성
plt.figure(figsize=(20, 16))
heatmap = sns.heatmap(correlation_matrix, annot=True, cmap='coolwarm', fmt=".2f")
# heatmap.set_xticklabels(heatmap.get_xticklabels(), rotation=45)
# heatmap.set_yticklabels(heatmap.get_yticklabels(), rotation=0)
plt.title('Correlation Heatmap')
plt.show()




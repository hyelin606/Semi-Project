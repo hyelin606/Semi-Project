import pandas as pd

# Provide the correct file path and encoding
file_path = 'data/2022년 파일/(추정매출-상권)_2022_편의점.csv'
encoding_type = 'euc-kr'

# Read the CSV file into a DataFrame
data = pd.read_csv(file_path, encoding=encoding_type)

# Do some operations or modifications on the DataFrame if needed

# Save the modified DataFrame to a new CSV file
output_file_path = 'data/2022년 파일/(추정매출-상권)_2022_편의점(인코딩).csv'
data.to_csv(output_file_path, index=False)

# Display a message indicating successful saving
print(f'DataFrame has been successfully saved to {output_file_path}')


import pandas as pd

# Provide the correct file path and encoding
file_path = 'data/원본파일/(영역-상권).csv'
encoding_type = 'euc-kr'  # Change to the appropriate encoding if needed

# Read the CSV file into a DataFrame
original_data = pd.read_csv(file_path, encoding=encoding_type)

# Do some operations or modifications on the original DataFrame if needed

# Save the modified DataFrame to a new CSV file
output_original_file_path = 'data/원본파일/(영역-상권)(인코딩).csv'
original_data.to_csv(output_original_file_path, index=False)

# Display a message indicating successful saving
print(f'Original DataFrame has been successfully saved to {output_original_file_path}')


import pandas as pd
import chardet

# 파일 인코딩 확인 함수
def get_encoding(file_path):
    with open(file_path, 'rb') as f:
        result = chardet.detect(f.read())
    return result['encoding']

# CSV 파일 불러오기 (인코딩 자동 감지)
file_path1 = 'data/2022년 파일/(추정매출-상권)_2022_편의점(인코딩).csv'
file_path2 = 'data/원본파일/(영역-상권)(인코딩).csv'

file_encoding1 = get_encoding(file_path1)
file_encoding2 = get_encoding(file_path2)

data1 = pd.read_csv(file_path1, encoding=file_encoding1)
data2 = pd.read_csv(file_path2, encoding=file_encoding2)

# 두 데이터프레임을 기준 열들을 사용하여 merge
merged_data = pd.merge(data1, data2, on=['상권_구분_코드', '상권_구분_코드_명', '상권_코드', '상권_코드_명'], how='inner')

# 결과 데이터 확인
print(merged_data.head())

# 중복된 행 확인
duplicates = merged_data[merged_data.duplicated()]

# 중복된 행 출력
print("중복된 행 개수:", len(duplicates))
print("중복된 행 데이터:")
print(duplicates)

# 결과 데이터 저장
output_path = 'data/merged_data.csv'
merged_data.to_csv(output_path, index=False)


import pandas as pd
import chardet

# 파일 인코딩 확인 함수
def get_encoding(file_path):
    with open(file_path, 'rb') as f:
        result = chardet.detect(f.read())
    return result['encoding']

# CSV 파일 불러오기 (인코딩 자동 감지)
file_path1 = 'data/merged_data.csv'
file_path2 = 'data/2022년 파일/(길단위인구-상권)_2022.csv'

file_encoding1 = get_encoding(file_path1)
file_encoding2 = get_encoding(file_path2)

data1 = pd.read_csv(file_path1, encoding=file_encoding1)
data2 = pd.read_csv(file_path2, encoding=file_encoding2)

# 두 데이터프레임을 기준 열들을 사용하여 merge
merged_data = pd.merge(data1, data2, on=['기준_년분기_코드', '상권_구분_코드', '상권_구분_코드_명', '상권_코드', '상권_코드_명'], how='inner')

# 결과 데이터 확인
print(merged_data.head())

# 중복된 행 확인
duplicates = merged_data[merged_data.duplicated()]

# 중복된 행 출력
print("중복된 행 개수:", len(duplicates))
print("중복된 행 데이터:")
print(duplicates)

# 결과 데이터 저장
output_path = 'data/merged_data2.csv'
merged_data.to_csv(output_path, index=False)


import pandas as pd
import chardet

# 파일 인코딩 확인 함수
def get_encoding(file_path):
    with open(file_path, 'rb') as f:
        result = chardet.detect(f.read())
    return result['encoding']

# CSV 파일 불러오기 (인코딩 자동 감지)
file_path1 = 'data/merged_data2.csv'
file_path2 = 'data/2022년 파일/(상주인구-상권)_2022.csv'

file_encoding1 = get_encoding(file_path1)
file_encoding2 = get_encoding(file_path2)

data1 = pd.read_csv(file_path1, encoding=file_encoding1)
data2 = pd.read_csv(file_path2, encoding=file_encoding2)

# 두 데이터프레임을 기준 열들을 사용하여 merge
merged_data = pd.merge(data1, data2, on=['기준_년분기_코드', '상권_구분_코드', '상권_구분_코드_명', '상권_코드', '상권_코드_명'], how='inner')

# 결과 데이터 확인
print(merged_data.head())

# 중복된 행 확인
duplicates = merged_data[merged_data.duplicated()]

# 중복된 행 출력
print("중복된 행 개수:", len(duplicates))
print("중복된 행 데이터:")
print(duplicates)

# 결과 데이터 저장
output_path = 'data/merged_data3.csv'
merged_data.to_csv(output_path, index=False)


# 데이터 개수 3413 => 3396


import pandas as pd
import chardet

# 파일 인코딩 확인 함수
def get_encoding(file_path):
    with open(file_path, 'rb') as f:
        result = chardet.detect(f.read())
    return result['encoding']

# CSV 파일 불러오기 (인코딩 자동 감지)
file_path1 = 'data/merged_data3.csv'
file_path2 = 'data/2022년 파일/(직장인구-상권)_2022.csv'

file_encoding1 = get_encoding(file_path1)
file_encoding2 = get_encoding(file_path2)

data1 = pd.read_csv(file_path1, encoding=file_encoding1)
data2 = pd.read_csv(file_path2, encoding=file_encoding2)

# 두 데이터프레임을 기준 열들을 사용하여 merge
merged_data = pd.merge(data1, data2, on=['기준_년분기_코드', '상권_구분_코드', '상권_구분_코드_명', '상권_코드', '상권_코드_명'], how='inner')

# 결과 데이터 확인
print(merged_data.head())

# 중복된 행 확인
duplicates = merged_data[merged_data.duplicated()]

# 중복된 행 출력
print("중복된 행 개수:", len(duplicates))
print("중복된 행 데이터:")
print(duplicates)

# 결과 데이터 저장
output_path = 'data/merged_data4.csv'
merged_data.to_csv(output_path, index=False)


# 데이터 갯수 3396 => 3392


import pandas as pd
import chardet

# 파일 인코딩 확인 함수
def get_encoding(file_path):
    with open(file_path, 'rb') as f:
        result = chardet.detect(f.read())
    return result['encoding']

# CSV 파일 불러오기 (인코딩 자동 감지)
file_path1 = 'data/merged_data4.csv'
file_path2 = 'data/2022년 파일/(소득소비-상권)_2022.csv'

file_encoding1 = get_encoding(file_path1)
file_encoding2 = get_encoding(file_path2)

data1 = pd.read_csv(file_path1, encoding=file_encoding1)
data2 = pd.read_csv(file_path2, encoding=file_encoding2)

# 두 데이터프레임을 기준 열들을 사용하여 merge
merged_data = pd.merge(data1, data2, on=['기준_년분기_코드', '상권_구분_코드', '상권_구분_코드_명', '상권_코드', '상권_코드_명'], how='inner')

# 결과 데이터 확인
print(merged_data.head())

# 중복된 행 확인
duplicates = merged_data[merged_data.duplicated()]

# 중복된 행 출력
print("중복된 행 개수:", len(duplicates))
print("중복된 행 데이터:")
print(duplicates)

# 결과 데이터 저장
output_path = 'data/merged_data5.csv'
merged_data.to_csv(output_path, index=False)


import pandas as pd
import chardet

# 파일 인코딩 확인 함수
def get_encoding(file_path):
    with open(file_path, 'rb') as f:
        result = chardet.detect(f.read())
    return result['encoding']

# CSV 파일 불러오기 (인코딩 자동 감지)
file_path1 = 'data/merged_data5.csv'
file_path2 = 'data/2022년 파일/(집객시설-상권)_2022.csv'

file_encoding1 = get_encoding(file_path1)
file_encoding2 = get_encoding(file_path2)

data1 = pd.read_csv(file_path1, encoding=file_encoding1)
data2 = pd.read_csv(file_path2, encoding=file_encoding2)

# 두 데이터프레임을 기준 열들을 사용하여 merge
merged_data = pd.merge(data1, data2, on=['기준_년분기_코드', '상권_구분_코드', '상권_구분_코드_명', '상권_코드', '상권_코드_명'], how='inner')

# 결과 데이터 확인
print(merged_data.head())

# 중복된 행 확인
duplicates = merged_data[merged_data.duplicated()]

# 중복된 행 출력
print("중복된 행 개수:", len(duplicates))
print("중복된 행 데이터:")
print(duplicates)

# 결과 데이터 저장
output_path = 'data/merged_data_final.csv'
merged_data.to_csv(output_path, index=False)


# 데이터 갯수 3392 => 3376



